{
 "cells": [
  {
   "cell_type": "markdown",
   "metadata": {},
   "source": [
    "# Урок 5. Сверточные нейронные сети"
   ]
  },
  {
   "cell_type": "markdown",
   "metadata": {},
   "source": [
    "ЗАДАНИЕ 1.\n",
    "\n",
    "Попробовать улучшить точность распознования образов cifar 10 сверточной нейронной сетью, рассмотренной на уроке. Приложить анализ с описанием того, что улучшает работу нейронной сети и что ухудшает."
   ]
  },
  {
   "cell_type": "code",
   "execution_count": 6,
   "metadata": {},
   "outputs": [],
   "source": [
    "import matplotlib.pyplot as plt\n",
    "\n",
    "import warnings\n",
    "warnings.simplefilter(action='ignore', category=FutureWarning)"
   ]
  },
  {
   "cell_type": "code",
   "execution_count": 7,
   "metadata": {},
   "outputs": [],
   "source": [
    "\n",
    "from __future__ import print_function\n",
    "from numpy import asarray\n",
    "import keras # расскоментируйте эту строку, чтобы начать обучение\n",
    "from keras.datasets import cifar10\n",
    "from keras import optimizers\n",
    "from keras.preprocessing.image import ImageDataGenerator\n",
    "from keras.models import Sequential\n",
    "from keras.layers import Dense, Dropout, Activation, Flatten\n",
    "from keras.layers import GlobalMaxPooling2D\n",
    "from keras.layers import Conv2D, MaxPooling2D\n",
    "\n",
    "from tensorflow.python.keras.optimizers import TFOptimizer\n",
    "from keras import optimizers\n",
    "import os"
   ]
  },
  {
   "cell_type": "code",
   "execution_count": 8,
   "metadata": {},
   "outputs": [],
   "source": [
    "def create_evalute_model(batch_size,num_classes,epochs,data_augmentation,save_dir,model_name,target_dataset,\n",
    "                         channels_array,inner_blocks_count,kernel_matrix):\n",
    "    # разделение тренировочной и тестовой выборки\n",
    "    (x_train, y_train), (x_test, y_test) = target_dataset.load_data()\n",
    "    print('x_train shape:', x_train.shape)\n",
    "    print(x_train.shape[0], 'тренировочные примеры')\n",
    "    print(x_test.shape[0], 'тестовые примеры')\n",
    "\n",
    "    # преобразование матрицы чисел 0-9 в бинарную матрицу чисел 0-1\n",
    "    y_train = keras.utils.to_categorical(y_train, num_classes)\n",
    "    y_test = keras.utils.to_categorical(y_test, num_classes)\n",
    "\n",
    "    # конфигурирование слоев нейросети\n",
    "    model = Sequential()\n",
    "\n",
    "    # слои нейросети отвественные за свертку и max-pooling\n",
    "    model.add(Conv2D(32, kernel_matrix, padding='same',\n",
    "                 input_shape=x_train.shape[1:]))\n",
    "    model.add(Activation('relu'))\n",
    "    model.add(Conv2D(32, kernel_matrix))\n",
    "    model.add(Activation('relu'))\n",
    "    model.add(MaxPooling2D(pool_size=(2, 2)))\n",
    "    model.add(Dropout(0.25))\n",
    "\n",
    "    for i in range(inner_blocks_count):\n",
    "        model.add(Conv2D(channels_array[i], kernel_matrix, padding='same'))\n",
    "        model.add(Activation('relu'))\n",
    "        model.add(Conv2D(channels_array[i], kernel_matrix))\n",
    "        model.add(Activation('relu'))\n",
    "        model.add(MaxPooling2D(pool_size=(2, 2)))\n",
    "        model.add(Dropout(0.25))\n",
    "\n",
    "    # полносвязные слои нейронной сети\n",
    "    model.add(Flatten())\n",
    "    model.add(Dense(512))\n",
    "    model.add(Activation('relu'))\n",
    "    model.add(Dropout(0.5))\n",
    "    model.add(Dense(num_classes))\n",
    "    model.add(Activation('softmax'))\n",
    "\n",
    "    # инициализация RMSprop optimizer\n",
    "    opt = keras.optimizers.RMSprop(lr=0.0001, decay=1e-6)\n",
    "\n",
    "    # компиляция модели\n",
    "    model.compile(loss='categorical_crossentropy',\n",
    "                  optimizer=opt,\n",
    "                  metrics=['accuracy'])\n",
    "\n",
    "    x_train = x_train.astype('float32')\n",
    "    x_test = x_test.astype('float32')\n",
    "    x_train /= 255\n",
    "    x_test /= 255\n",
    "\n",
    "    if not data_augmentation:\n",
    "        print('Не используется data augmentation')\n",
    "        model.fit(x_train, y_train,\n",
    "                  batch_size=batch_size,\n",
    "                  epochs=epochs,\n",
    "                  validation_data=(x_test, y_test),\n",
    "                  shuffle=True)\n",
    "    else:\n",
    "        print('Использование data augmentation в реальном времени')\n",
    "        # Препроцессинг и data augmentation в реальном времени:\n",
    "        datagen = ImageDataGenerator(\n",
    "            featurewise_center=False,\n",
    "            samplewise_center=False,\n",
    "            featurewise_std_normalization=False,\n",
    "            samplewise_std_normalization=False,\n",
    "            zca_whitening=False, \n",
    "            zca_epsilon=1e-06, \n",
    "            rotation_range=0, \n",
    "            width_shift_range=0.1,\n",
    "            height_shift_range=0.1,\n",
    "            shear_range=0., \n",
    "            zoom_range=0., \n",
    "            channel_shift_range=0.,\n",
    "            fill_mode='nearest',\n",
    "            cval=0.,\n",
    "            horizontal_flip=True,\n",
    "            vertical_flip=False,\n",
    "            rescale=None,\n",
    "            preprocessing_function=None,\n",
    "            data_format=None,\n",
    "            validation_split=0.0)\n",
    "\n",
    "        # запуск data augmentation через fit\n",
    "        #datagen.fit(x_train)\n",
    "\n",
    "        # запуск data augmentation через fit_generator\n",
    "        model.fit_generator(datagen.flow(x_train, y_train,\n",
    "                                         batch_size=batch_size),\n",
    "                            epochs=epochs,\n",
    "                            validation_data=(x_test, y_test),\n",
    "                            workers=4)\n",
    "\n",
    "    # сохранение модели и весов\n",
    "    if not os.path.isdir(save_dir):\n",
    "        os.makedirs(save_dir)\n",
    "    model_path = os.path.join(save_dir, model_name)\n",
    "    #model.save(model_path)\n",
    "    model.save(model_path,include_optimizer=False)\n",
    "    print('сохранить обученную модель как %s ' % model_path)\n",
    "\n",
    "    # проверка работы обученной модели\n",
    "    scores = model.evaluate(x_test, y_test, verbose=1)\n",
    "    print('Test loss:', scores[0])\n",
    "    print('Test accuracy:', scores[1])\n",
    "    return scores[1]"
   ]
  },
  {
   "cell_type": "code",
   "execution_count": 9,
   "metadata": {},
   "outputs": [],
   "source": [
    "# установка параметров нейросети\n",
    "batch_size = 32\n",
    "num_classes = 10\n",
    "epochs = 1\n",
    "data_augmentation = True\n",
    "num_predictions = 20\n",
    "save_dir = os.path.join(os.getcwd(), 'saved_models')\n",
    "model_name = 'keras_cifar10_trained_model.h5'\n",
    "target_dataset=cifar10\n",
    "inner_blocks_count=1\n",
    "channels_array=[64]\n",
    "kernel_matrix=(3, 3)"
   ]
  },
  {
   "cell_type": "code",
   "execution_count": 5,
   "metadata": {},
   "outputs": [
    {
     "name": "stdout",
     "output_type": "stream",
     "text": [
      "x_train shape: (50000, 32, 32, 3)\n",
      "50000 тренировочные примеры\n",
      "10000 тестовые примеры\n",
      "Использование data augmentation в реальном времени\n",
      "Epoch 1/1\n",
      "1563/1563 [==============================] - 63s 41ms/step - loss: nan - accuracy: 0.1000 - val_loss: nan - val_accuracy: 0.1000\n",
      "сохранить обученную модель как C:\\Users\\Windows\\Documents\\Introduction_to_Neural_Networks\\saved_models\\keras_cifar10_trained_model.h5 \n",
      "10000/10000 [==============================] - 2s 215us/step\n",
      "Test loss: nan\n",
      "Test accuracy: 0.10000000149011612\n",
      "accurancy: 0.10000000149011612\n"
     ]
    }
   ],
   "source": [
    "accurancy=create_evalute_model(batch_size,num_classes,epochs,data_augmentation,save_dir,model_name,\n",
    "                               target_dataset,channels_array,inner_blocks_count,kernel_matrix)\n",
    "print('accurancy:',accurancy)"
   ]
  },
  {
   "cell_type": "markdown",
   "metadata": {},
   "source": [
    "**Меняем параметр data_augmentations**"
   ]
  },
  {
   "cell_type": "code",
   "execution_count": 23,
   "metadata": {},
   "outputs": [
    {
     "name": "stdout",
     "output_type": "stream",
     "text": [
      "x_train shape: (50000, 32, 32, 3)\n",
      "50000 тренировочные примеры\n",
      "10000 тестовые примеры\n",
      "Использование data augmentation в реальном времени\n",
      "Epoch 1/1\n",
      "1563/1563 [==============================] - 64s 41ms/step - loss: nan - accuracy: 0.0999 - val_loss: nan - val_accuracy: 0.1000\n",
      "сохранить обученную модель как C:\\Users\\Windows\\Documents\\Introduction_to_Neural_Networks\\saved_models\\keras_cifar10_trained_model.h5 \n",
      "10000/10000 [==============================] - 2s 219us/step\n",
      "x_train shape: (50000, 32, 32, 3)\n",
      "50000 тренировочные примеры\n",
      "10000 тестовые примеры\n",
      "Не используется data augmentation\n",
      "Train on 50000 samples, validate on 10000 samples\n",
      "Epoch 1/1\n",
      "50000/50000 [==============================] - 63s 1ms/step - loss: nan - accuracy: 0.1000 - val_loss: nan - val_accuracy: 0.1000\n",
      "сохранить обученную модель как C:\\Users\\Windows\\Documents\\Introduction_to_Neural_Networks\\saved_models\\keras_cifar10_trained_model.h5 \n",
      "10000/10000 [==============================] - 2s 236us/step\n"
     ]
    }
   ],
   "source": [
    "data_augmentations=[True,False]\n",
    "accuracies=[]\n",
    "for data_augmentation_par in data_augmentations:\n",
    "    accurancy=create_evalute_model(batch_size,num_classes,epochs,data_augmentation_par,save_dir,model_name,\n",
    "                               target_dataset,channels_array,inner_blocks_count,kernel_matrix)\n",
    "    accuracies.append(accurancy)\n"
   ]
  },
  {
   "cell_type": "code",
   "execution_count": 26,
   "metadata": {},
   "outputs": [
    {
     "data": {
      "image/png": "[encoded data removed]",
      "text/plain": [
       "<Figure size 432x288 with 1 Axes>"
      ]
     },
     "metadata": {
      "needs_background": "light"
     },
     "output_type": "display_data"
    }
   ],
   "source": [
    "plt.plot(data_augmentations,accuracies)\n",
    "plt.title(\"Изменение augmentations\")\n",
    "plt.xlabel('Augmentation')\n",
    "plt.ylabel('Точность %')\n",
    "plt.show()"
   ]
  },
  {
   "cell_type": "markdown",
   "metadata": {},
   "source": [
    "**Вывод: точность не меняется от того, используем или нет мы augmentation**"
   ]
  },
  {
   "cell_type": "code",
   "execution_count": 18,
   "metadata": {},
   "outputs": [],
   "source": [
    "data_augmentation=False"
   ]
  },
  {
   "cell_type": "markdown",
   "metadata": {},
   "source": [
    "**Меняем параметр batch_sizes**"
   ]
  },
  {
   "cell_type": "code",
   "execution_count": 33,
   "metadata": {},
   "outputs": [
    {
     "name": "stdout",
     "output_type": "stream",
     "text": [
      "x_train shape: (50000, 32, 32, 3)\n",
      "50000 тренировочные примеры\n",
      "10000 тестовые примеры\n",
      "Не используется data augmentation\n",
      "Train on 50000 samples, validate on 10000 samples\n",
      "Epoch 1/1\n",
      "50000/50000 [==============================] - 58s 1ms/step - loss: nan - accuracy: 0.0999 - val_loss: nan - val_accuracy: 0.1000\n",
      "сохранить обученную модель как C:\\Users\\Windows\\Documents\\Introduction_to_Neural_Networks\\saved_models\\keras_cifar10_trained_model.h5 \n",
      "10000/10000 [==============================] - 2s 217us/step\n",
      "Test loss: nan\n",
      "Test accuracy: 0.10000000149011612\n",
      "x_train shape: (50000, 32, 32, 3)\n",
      "50000 тренировочные примеры\n",
      "10000 тестовые примеры\n",
      "Не используется data augmentation\n",
      "Train on 50000 samples, validate on 10000 samples\n",
      "Epoch 1/1\n",
      "50000/50000 [==============================] - 53s 1ms/step - loss: nan - accuracy: 0.1000 - val_loss: nan - val_accuracy: 0.1000\n",
      "сохранить обученную модель как C:\\Users\\Windows\\Documents\\Introduction_to_Neural_Networks\\saved_models\\keras_cifar10_trained_model.h5 \n",
      "10000/10000 [==============================] - 2s 216us/step\n",
      "Test loss: nan\n",
      "Test accuracy: 0.10000000149011612\n",
      "x_train shape: (50000, 32, 32, 3)\n",
      "50000 тренировочные примеры\n",
      "10000 тестовые примеры\n",
      "Не используется data augmentation\n",
      "Train on 50000 samples, validate on 10000 samples\n",
      "Epoch 1/1\n",
      "50000/50000 [==============================] - 51s 1ms/step - loss: nan - accuracy: 0.0999 - val_loss: nan - val_accuracy: 0.1000\n",
      "сохранить обученную модель как C:\\Users\\Windows\\Documents\\Introduction_to_Neural_Networks\\saved_models\\keras_cifar10_trained_model.h5 \n",
      "10000/10000 [==============================] - 2s 227us/step\n",
      "Test loss: nan\n",
      "Test accuracy: 0.10000000149011612\n"
     ]
    }
   ],
   "source": [
    "\n",
    "batch_sizes=[32,64,128]\n",
    "accuracies=[]\n",
    "for batch_size_par in batch_sizes:\n",
    "    accurancy=create_evalute_model(batch_size_par,num_classes,epochs,data_augmentation,save_dir,model_name,\n",
    "                               target_dataset,channels_array,inner_blocks_count,kernel_matrix)\n",
    "    accuracies.append(accurancy)"
   ]
  },
  {
   "cell_type": "code",
   "execution_count": 34,
   "metadata": {},
   "outputs": [
    {
     "data": {
      "image/png": "[encoded data removed]",
      "text/plain": [
       "<Figure size 432x288 with 1 Axes>"
      ]
     },
     "metadata": {
      "needs_background": "light"
     },
     "output_type": "display_data"
    }
   ],
   "source": [
    "plt.plot(batch_sizes,accuracies)\n",
    "plt.title(\"Изменение batch sizes\")\n",
    "plt.xlabel('Batch_size')\n",
    "plt.ylabel('Точность %')\n",
    "plt.show()"
   ]
  },
  {
   "cell_type": "markdown",
   "metadata": {},
   "source": [
    "**Вывод: точность не меняется от того, какие batch_sizes мы используем**"
   ]
  },
  {
   "cell_type": "markdown",
   "metadata": {},
   "source": [
    "**Меняем параметр epochs**"
   ]
  },
  {
   "cell_type": "code",
   "execution_count": 35,
   "metadata": {},
   "outputs": [
    {
     "name": "stdout",
     "output_type": "stream",
     "text": [
      "x_train shape: (50000, 32, 32, 3)\n",
      "50000 тренировочные примеры\n",
      "10000 тестовые примеры\n",
      "Не используется data augmentation\n",
      "Train on 50000 samples, validate on 10000 samples\n",
      "Epoch 1/1\n",
      "50000/50000 [==============================] - 61s 1ms/step - loss: nan - accuracy: 0.1001 - val_loss: nan - val_accuracy: 0.1000\n",
      "сохранить обученную модель как C:\\Users\\Windows\\Documents\\Introduction_to_Neural_Networks\\saved_models\\keras_cifar10_trained_model.h5 \n",
      "10000/10000 [==============================] - 2s 223us/step\n",
      "Test loss: nan\n",
      "Test accuracy: 0.10000000149011612\n",
      "x_train shape: (50000, 32, 32, 3)\n",
      "50000 тренировочные примеры\n",
      "10000 тестовые примеры\n",
      "Не используется data augmentation\n",
      "Train on 50000 samples, validate on 10000 samples\n",
      "Epoch 1/3\n",
      "50000/50000 [==============================] - 62s 1ms/step - loss: nan - accuracy: 0.1000 - val_loss: nan - val_accuracy: 0.1000\n",
      "Epoch 2/3\n",
      "50000/50000 [==============================] - 66s 1ms/step - loss: nan - accuracy: 0.1000 - val_loss: nan - val_accuracy: 0.1000\n",
      "Epoch 3/3\n",
      "50000/50000 [==============================] - 67s 1ms/step - loss: nan - accuracy: 0.1000 - val_loss: nan - val_accuracy: 0.1000\n",
      "сохранить обученную модель как C:\\Users\\Windows\\Documents\\Introduction_to_Neural_Networks\\saved_models\\keras_cifar10_trained_model.h5 \n",
      "10000/10000 [==============================] - 2s 218us/step\n",
      "Test loss: nan\n",
      "Test accuracy: 0.10000000149011612\n",
      "x_train shape: (50000, 32, 32, 3)\n",
      "50000 тренировочные примеры\n",
      "10000 тестовые примеры\n",
      "Не используется data augmentation\n",
      "Train on 50000 samples, validate on 10000 samples\n",
      "Epoch 1/7\n",
      "50000/50000 [==============================] - 67s 1ms/step - loss: nan - accuracy: 0.1001 - val_loss: nan - val_accuracy: 0.1000\n",
      "Epoch 2/7\n",
      "50000/50000 [==============================] - 70s 1ms/step - loss: nan - accuracy: 0.1000 - val_loss: nan - val_accuracy: 0.1000\n",
      "Epoch 3/7\n",
      "50000/50000 [==============================] - 67s 1ms/step - loss: nan - accuracy: 0.1000 - val_loss: nan - val_accuracy: 0.1000\n",
      "Epoch 4/7\n",
      "50000/50000 [==============================] - 68s 1ms/step - loss: nan - accuracy: 0.1000 - val_loss: nan - val_accuracy: 0.1000\n",
      "Epoch 5/7\n",
      "50000/50000 [==============================] - 67s 1ms/step - loss: nan - accuracy: 0.1000 - val_loss: nan - val_accuracy: 0.1000\n",
      "Epoch 6/7\n",
      "50000/50000 [==============================] - 70s 1ms/step - loss: nan - accuracy: 0.1000 - val_loss: nan - val_accuracy: 0.1000\n",
      "Epoch 7/7\n",
      "50000/50000 [==============================] - 71s 1ms/step - loss: nan - accuracy: 0.1000 - val_loss: nan - val_accuracy: 0.1000\n",
      "сохранить обученную модель как C:\\Users\\Windows\\Documents\\Introduction_to_Neural_Networks\\saved_models\\keras_cifar10_trained_model.h5 \n",
      "10000/10000 [==============================] - 3s 297us/step\n",
      "Test loss: nan\n",
      "Test accuracy: 0.10000000149011612\n"
     ]
    }
   ],
   "source": [
    "arr_epochs=[1,3,7]\n",
    "accuracies=[]\n",
    "for epochs_par in arr_epochs:\n",
    "    accurancy=create_evalute_model(batch_size,num_classes,epochs_par,data_augmentation,save_dir,model_name,\n",
    "                               target_dataset,channels_array,inner_blocks_count,kernel_matrix)\n",
    "    accuracies.append(accurancy)"
   ]
  },
  {
   "cell_type": "code",
   "execution_count": 36,
   "metadata": {},
   "outputs": [
    {
     "data": {
      "image/png": "[encoded data removed]",
      "text/plain": [
       "<Figure size 432x288 with 1 Axes>"
      ]
     },
     "metadata": {
      "needs_background": "light"
     },
     "output_type": "display_data"
    }
   ],
   "source": [
    "plt.plot(arr_epochs,accuracies)\n",
    "plt.title(\"Изменение epochs\")\n",
    "plt.xlabel('Epochs')\n",
    "plt.ylabel('Точность %')\n",
    "plt.show()"
   ]
  },
  {
   "cell_type": "markdown",
   "metadata": {},
   "source": [
    "**Вывод: точность не меняется от того, какие epochs мы используем**"
   ]
  },
  {
   "cell_type": "markdown",
   "metadata": {},
   "source": [
    "**Меняем параметр inner_blocks_counts**"
   ]
  },
  {
   "cell_type": "code",
   "execution_count": 25,
   "metadata": {},
   "outputs": [
    {
     "name": "stdout",
     "output_type": "stream",
     "text": [
      "x_train shape: (50000, 32, 32, 3)\n",
      "50000 тренировочные примеры\n",
      "10000 тестовые примеры\n",
      "Не используется data augmentation\n",
      "Train on 50000 samples, validate on 10000 samples\n",
      "Epoch 1/1\n",
      "50000/50000 [==============================] - 59s 1ms/step - loss: nan - accuracy: 0.1001 - val_loss: nan - val_accuracy: 0.1000\n",
      "сохранить обученную модель как C:\\Users\\Windows\\Documents\\Introduction_to_Neural_Networks\\saved_models\\keras_cifar10_trained_model.h5 \n",
      "10000/10000 [==============================] - 2s 229us/step\n",
      "Test loss: nan\n",
      "Test accuracy: 0.10000000149011612\n",
      "x_train shape: (50000, 32, 32, 3)\n",
      "50000 тренировочные примеры\n",
      "10000 тестовые примеры\n",
      "Не используется data augmentation\n",
      "Train on 50000 samples, validate on 10000 samples\n",
      "Epoch 1/1\n",
      "50000/50000 [==============================] - 65s 1ms/step - loss: nan - accuracy: 0.1000 - val_loss: nan - val_accuracy: 0.1000\n",
      "сохранить обученную модель как C:\\Users\\Windows\\Documents\\Introduction_to_Neural_Networks\\saved_models\\keras_cifar10_trained_model.h5 \n",
      "10000/10000 [==============================] - 2s 245us/step\n",
      "Test loss: nan\n",
      "Test accuracy: 0.10000000149011612\n"
     ]
    }
   ],
   "source": [
    "accuracies=[]\n",
    "inner_blocks_counts=2\n",
    "dict_channels_array={0:[64],1:[64,128]}\n",
    "\n",
    "for inner_blocks_count_par in range(inner_blocks_counts):\n",
    "    accurancy=create_evalute_model(batch_size,num_classes,epochs,data_augmentation,save_dir,model_name,\n",
    "                                   target_dataset,dict_channels_array[inner_blocks_count_par],inner_blocks_count_par+1,kernel_matrix)\n",
    "    accuracies.append(accurancy)"
   ]
  },
  {
   "cell_type": "code",
   "execution_count": 27,
   "metadata": {},
   "outputs": [
    {
     "data": {
      "image/png": "[encoded data removed]",
      "text/plain": [
       "<Figure size 432x288 with 1 Axes>"
      ]
     },
     "metadata": {
      "needs_background": "light"
     },
     "output_type": "display_data"
    }
   ],
   "source": [
    "plt.plot([1,2],accuracies)\n",
    "plt.title(\"Изменение inner_blocks_count\")\n",
    "plt.xlabel('inner_blocks_count')\n",
    "plt.ylabel('Точность %')\n",
    "plt.show()"
   ]
  },
  {
   "cell_type": "markdown",
   "metadata": {},
   "source": [
    "**Вывод: точность не меняется от того, сколько внутренних слоев мы используем**"
   ]
  },
  {
   "cell_type": "markdown",
   "metadata": {},
   "source": [
    "ЗАДАНИЕ 2\n",
    "\n",
    "Описать также в анализе какие необоходимо внести изменения  в получившуюся у вас нейронную сеть если бы ей нужно было работать не с cifar10, а с MNIST, CIFAR100 и IMAGENET."
   ]
  },
  {
   "cell_type": "code",
   "execution_count": 34,
   "metadata": {},
   "outputs": [],
   "source": [
    "from keras.datasets import cifar100\n",
    "target_dataset=cifar100\n",
    "num_classes=100"
   ]
  },
  {
   "cell_type": "code",
   "execution_count": 35,
   "metadata": {},
   "outputs": [
    {
     "name": "stdout",
     "output_type": "stream",
     "text": [
      "x_train shape: (50000, 32, 32, 3)\n",
      "50000 тренировочные примеры\n",
      "10000 тестовые примеры\n",
      "Не используется data augmentation\n",
      "Train on 50000 samples, validate on 10000 samples\n",
      "Epoch 1/1\n",
      "50000/50000 [==============================] - 64s 1ms/step - loss: nan - accuracy: 0.0100 - val_loss: nan - val_accuracy: 0.0100\n",
      "сохранить обученную модель как C:\\Users\\Windows\\Documents\\Introduction_to_Neural_Networks\\saved_models\\keras_cifar10_trained_model.h5 \n",
      "10000/10000 [==============================] - 2s 247us/step\n",
      "Test loss: nan\n",
      "Test accuracy: 0.009999999776482582\n",
      "accurancy: 0.009999999776482582\n"
     ]
    }
   ],
   "source": [
    "accurancy=create_evalute_model(batch_size,num_classes,epochs,data_augmentation,save_dir,model_name,\n",
    "                               target_dataset,channels_array,inner_blocks_count,kernel_matrix)\n",
    "print('accurancy:',accurancy)"
   ]
  },
  {
   "cell_type": "markdown",
   "metadata": {},
   "source": [
    "**CIFAR100** \n",
    "\n",
    "**Для работы надо было изменить target_dataset=cifar100 и num_classes=100, однако точность уменьшилось в 10 раз и вероятно изменить ее в лучшую сторону изменяя параметры не получится**"
   ]
  },
  {
   "cell_type": "markdown",
   "metadata": {},
   "source": [
    "IMAGENET не представляется возможным загрузить"
   ]
  },
  {
   "cell_type": "code",
   "execution_count": 75,
   "metadata": {},
   "outputs": [],
   "source": [
    "from keras.datasets import mnist\n",
    "target_dataset=mnist\n",
    "num_classes=10"
   ]
  },
  {
   "cell_type": "code",
   "execution_count": 76,
   "metadata": {},
   "outputs": [],
   "source": [
    "def create_evalute_model_ex(batch_size,num_classes,epochs,data_augmentation,save_dir,model_name,target_dataset,\n",
    "                         channels_array,inner_blocks_count,kernel_matrix):\n",
    "    # разделение тренировочной и тестовой выборки\n",
    "    (x_train, y_train), (x_test, y_test) = target_dataset.load_data()\n",
    "    print('x_train shape:', x_train.shape)\n",
    "    print(x_train.shape[0], 'тренировочные примеры')\n",
    "    print(x_test.shape[0], 'тестовые примеры')\n",
    "\n",
    "    # преобразование матрицы чисел 0-9 в бинарную матрицу чисел 0-1\n",
    "    y_train = keras.utils.to_categorical(y_train, num_classes)\n",
    "    y_test = keras.utils.to_categorical(y_test, num_classes)\n",
    "\n",
    "    x_train=x_train.reshape(x_train.shape[0], x_train.shape[1], x_train.shape[2],1)\n",
    "    x_test=x_test.reshape(x_test.shape[0], x_test.shape[1], x_test.shape[2],1)\n",
    "    # конфигурирование слоев нейросети\n",
    "    model = Sequential()\n",
    "\n",
    "    # слои нейросети отвественные за свертку и max-pooling\n",
    "    model.add(Conv2D(32, kernel_matrix, padding='same',\n",
    "                 input_shape=x_train.shape[1:]))\n",
    "    model.add(Activation('relu'))\n",
    "    model.add(Conv2D(32, kernel_matrix))\n",
    "    model.add(Activation('relu'))\n",
    "    model.add(MaxPooling2D(pool_size=(2, 2)))\n",
    "    model.add(Dropout(0.25))\n",
    "\n",
    "    for i in range(inner_blocks_count):\n",
    "        model.add(Conv2D(channels_array[i], kernel_matrix, padding='same'))\n",
    "        model.add(Activation('relu'))\n",
    "        model.add(Conv2D(channels_array[i], kernel_matrix))\n",
    "        model.add(Activation('relu'))\n",
    "        model.add(MaxPooling2D(pool_size=(2, 2)))\n",
    "        model.add(Dropout(0.25))\n",
    "\n",
    "    # полносвязные слои нейронной сети\n",
    "    model.add(Flatten())\n",
    "    model.add(Dense(512))\n",
    "    model.add(Activation('relu'))\n",
    "    model.add(Dropout(0.5))\n",
    "    model.add(Dense(num_classes))\n",
    "    model.add(Activation('softmax'))\n",
    "\n",
    "    # инициализация RMSprop optimizer\n",
    "    opt = keras.optimizers.RMSprop(lr=0.0001, decay=1e-6)\n",
    "\n",
    "    # компиляция модели\n",
    "    model.compile(loss='categorical_crossentropy',\n",
    "                  optimizer=opt,\n",
    "                  metrics=['accuracy'])\n",
    "\n",
    "    x_train = x_train.astype('float32')\n",
    "    x_test = x_test.astype('float32')\n",
    "    x_train /= 255\n",
    "    x_test /= 255\n",
    "\n",
    "    if not data_augmentation:\n",
    "        print('Не используется data augmentation')\n",
    "        model.fit(x_train, y_train,\n",
    "                  batch_size=batch_size,\n",
    "                  epochs=epochs,\n",
    "                  validation_data=(x_test, y_test),\n",
    "                  shuffle=True)\n",
    "    else:\n",
    "        print('Использование data augmentation в реальном времени')\n",
    "        # Препроцессинг и data augmentation в реальном времени:\n",
    "        datagen = ImageDataGenerator(\n",
    "            featurewise_center=False,\n",
    "            samplewise_center=False,\n",
    "            featurewise_std_normalization=False,\n",
    "            samplewise_std_normalization=False,\n",
    "            zca_whitening=False, \n",
    "            zca_epsilon=1e-06, \n",
    "            rotation_range=0, \n",
    "            width_shift_range=0.1,\n",
    "            height_shift_range=0.1,\n",
    "            shear_range=0., \n",
    "            zoom_range=0., \n",
    "            channel_shift_range=0.,\n",
    "            fill_mode='nearest',\n",
    "            cval=0.,\n",
    "            horizontal_flip=True,\n",
    "            vertical_flip=False,\n",
    "            rescale=None,\n",
    "            preprocessing_function=None,\n",
    "            data_format=None,\n",
    "            validation_split=0.0)\n",
    "\n",
    "        # запуск data augmentation через fit\n",
    "        #datagen.fit(x_train)\n",
    "\n",
    "        # запуск data augmentation через fit_generator\n",
    "        model.fit_generator(datagen.flow(x_train, y_train,\n",
    "                                         batch_size=batch_size),\n",
    "                            epochs=epochs,\n",
    "                            validation_data=(x_test, y_test),\n",
    "                            workers=4)\n",
    "\n",
    "    # сохранение модели и весов\n",
    "    if not os.path.isdir(save_dir):\n",
    "        os.makedirs(save_dir)\n",
    "    model_path = os.path.join(save_dir, model_name)\n",
    "    #model.save(model_path)\n",
    "    model.save(model_path,include_optimizer=False)\n",
    "    print('сохранить обученную модель как %s ' % model_path)\n",
    "\n",
    "    # проверка работы обученной модели\n",
    "    scores = model.evaluate(x_test, y_test, verbose=1)\n",
    "    print('Test loss:', scores[0])\n",
    "    print('Test accuracy:', scores[1])\n",
    "    return scores[1]"
   ]
  },
  {
   "cell_type": "code",
   "execution_count": 77,
   "metadata": {},
   "outputs": [
    {
     "name": "stdout",
     "output_type": "stream",
     "text": [
      "x_train shape: (60000, 28, 28)\n",
      "60000 тренировочные примеры\n",
      "10000 тестовые примеры\n",
      "Не используется data augmentation\n",
      "Train on 60000 samples, validate on 10000 samples\n",
      "Epoch 1/1\n",
      "60000/60000 [==============================] - 57s 957us/step - loss: nan - accuracy: 0.0987 - val_loss: nan - val_accuracy: 0.0980\n",
      "сохранить обученную модель как C:\\Users\\Windows\\Documents\\Introduction_to_Neural_Networks\\saved_models\\keras_cifar10_trained_model.h5 \n",
      "10000/10000 [==============================] - 2s 166us/step\n",
      "Test loss: nan\n",
      "Test accuracy: 0.09799999743700027\n",
      "accurancy: 0.09799999743700027\n"
     ]
    }
   ],
   "source": [
    "accurancy=create_evalute_model_ex(batch_size,num_classes,epochs,data_augmentation,save_dir,model_name,\n",
    "                               target_dataset,channels_array,inner_blocks_count,kernel_matrix)\n",
    "print('accurancy:',accurancy)"
   ]
  },
  {
   "cell_type": "markdown",
   "metadata": {},
   "source": [
    "**MNIST** \n",
    "\n",
    "**Для работы надо было изменить target_dataset=mnist и num_classes=10 и изменить размерность входного датасета, однако точность почти такая же 0.09799999743700027 и вероятно изменить ее в лучшую сторону изменяя параметры не получится**"
   ]
  },
  {
   "cell_type": "markdown",
   "metadata": {},
   "source": [
    "**Вывод - модель не очень хорошего качества, вероятно надо строить другую модель, изменить например  optimizer**"
   ]
  },
  {
   "cell_type": "code",
   "execution_count": null,
   "metadata": {},
   "outputs": [],
   "source": []
  }
 ],
 "metadata": {
  "kernelspec": {
   "display_name": "Python 3",
   "language": "python",
   "name": "python3"
  },
  "language_info": {
   "codemirror_mode": {
    "name": "ipython",
    "version": 3
   },
   "file_extension": ".py",
   "mimetype": "text/x-python",
   "name": "python",
   "nbconvert_exporter": "python",
   "pygments_lexer": "ipython3",
   "version": "3.7.4"
  }
 },
 "nbformat": 4,
 "nbformat_minor": 2
}
