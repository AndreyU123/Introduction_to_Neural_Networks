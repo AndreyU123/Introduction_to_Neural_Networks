{
 "cells": [
  {
   "cell_type": "markdown",
   "metadata": {},
   "source": [
    "# Урок 2. Keras"
   ]
  },
  {
   "cell_type": "markdown",
   "metadata": {},
   "source": [
    "ЗАДАНИЕ 1\n",
    "\n",
    "Попробуйте обучить, нейронную сеть на Keras(рассмотренную на уроке) на датасете MNIST с другими параметрами. \n",
    "Опишите в комментарии к уроку - какой результата вы добились от нейросети? Что помогло вам улучшить ее точность?  \n",
    "   "
   ]
  },
  {
   "cell_type": "code",
   "execution_count": 1,
   "metadata": {},
   "outputs": [
    {
     "name": "stderr",
     "output_type": "stream",
     "text": [
      "Using TensorFlow backend.\n"
     ]
    }
   ],
   "source": [
    "# The full neural network code!\n",
    "###############################\n",
    "import numpy as np\n",
    "import mnist\n",
    "from keras.models import Sequential\n",
    "from keras.layers import Dense\n",
    "from keras.utils import to_categorical\n",
    "\n",
    "train_images = mnist.train_images()\n",
    "train_labels = mnist.train_labels()\n",
    "test_images = mnist.test_images()\n",
    "test_labels = mnist.test_labels()\n",
    "\n",
    "# Normalize the images.\n",
    "train_images = (train_images / 255) - 0.5\n",
    "test_images = (test_images / 255) - 0.5\n",
    "\n",
    "# Flatten the images.\n",
    "train_images = train_images.reshape((-1, 784))\n",
    "test_images = test_images.reshape((-1, 784))\n"
   ]
  },
  {
   "cell_type": "code",
   "execution_count": 2,
   "metadata": {},
   "outputs": [],
   "source": [
    "import matplotlib.pyplot as plt\n",
    "\n",
    "import warnings\n",
    "warnings.simplefilter(action='ignore', category=FutureWarning)"
   ]
  },
  {
   "cell_type": "code",
   "execution_count": 3,
   "metadata": {},
   "outputs": [],
   "source": [
    "def create_model(train_images, train_labels, test_images,test_labels,layers,list_keys,optimizer_par,loss_par,\n",
    "                 metrics_par,epochs_par,batch_size_par):\n",
    "    \n",
    "    # Build the model.        \n",
    "    model = Sequential()\n",
    "    \n",
    "    for i in list_keys:\n",
    "        if len(layers[i])==3:\n",
    "            model.add(Dense(layers[i][0], activation=layers[i][1], input_shape=(layers[i][2],)))\n",
    "        elif len(layers[i])==2:\n",
    "            model.add(Dense(layers[i][0], activation=layers[i][1]))\n",
    "        else:\n",
    "             raise Exception(\"layers shape exception\")\n",
    "            \n",
    "            \n",
    "     \n",
    "    # Compile the model.\n",
    "    model.compile(\n",
    "      optimizer=optimizer_par,\n",
    "      loss=loss_par,\n",
    "      metrics=metrics_par,\n",
    "    )\n",
    "\n",
    "    # Train the model.\n",
    "    hist=model.fit(\n",
    "      train_images,\n",
    "      to_categorical(train_labels),\n",
    "      epochs=epochs_par,\n",
    "      batch_size=batch_size_par,\n",
    "    )\n",
    "\n",
    "    # Evaluate the model.\n",
    "    model.evaluate(\n",
    "      test_images,\n",
    "      to_categorical(test_labels)\n",
    "    )\n",
    "\n",
    "    # Save the model to disk.\n",
    "    model.save_weights('model.h5')\n",
    "\n",
    "    # Load the model from disk later using:\n",
    "    # model.load_weights('model.h5')\n",
    "    \n",
    "    return model,hist"
   ]
  },
  {
   "cell_type": "code",
   "execution_count": 4,
   "metadata": {},
   "outputs": [],
   "source": [
    "#изменение количества внутренних слоев\n",
    "\n",
    "def accuracies_from_inner_layers_counts(inner_layers_counts):\n",
    "    accuracies=[]    \n",
    "    for i in inner_layers_counts:\n",
    "        layers = {1: [64,'relu',test_images.shape[1]]}\n",
    "        j=0\n",
    "        while j<i:  \n",
    "            layers[j+2]=[64,'relu']\n",
    "            j += 1\n",
    "        \n",
    "        layers[j+2]=[10,'softmax']\n",
    "            \n",
    "        list_keys = list(layers.keys())\n",
    "        list_keys.sort()\n",
    "        model,hist=create_model(train_images, train_labels, test_images,test_labels,layers,list_keys,\n",
    "                                optimizer_par='adam',loss_par='categorical_crossentropy',metrics_par=['accuracy'],\n",
    "                                epochs_par=5,batch_size_par=32)\n",
    "\n",
    "        # Predict on the first 5 test images.\n",
    "        predictions = model.predict(test_images[:5])\n",
    "    \n",
    "        accuracies.append(hist.history.get('accuracy')[-1])\n",
    "\n",
    "        # Print our model's predictions.\n",
    "        #print(np.argmax(predictions, axis=1)) # [7, 2, 1, 0, 4]\n",
    "\n",
    "        # Check our predictions against the ground truths.\n",
    "        #print(test_labels[:5]) # [7, 2, 1, 0, 4]\n",
    "        \n",
    "    return accuracies\n",
    "    \n",
    "\n",
    "\n"
   ]
  },
  {
   "cell_type": "code",
   "execution_count": 7,
   "metadata": {},
   "outputs": [
    {
     "name": "stdout",
     "output_type": "stream",
     "text": [
      "Epoch 1/5\n",
      "60000/60000 [==============================] - 2s 26us/step - loss: 0.3988 - accuracy: 0.8833\n",
      "Epoch 2/5\n",
      "60000/60000 [==============================] - 2s 25us/step - loss: 0.2801 - accuracy: 0.9197\n",
      "Epoch 3/5\n",
      "60000/60000 [==============================] - 2s 25us/step - loss: 0.2370 - accuracy: 0.9328\n",
      "Epoch 4/5\n",
      "60000/60000 [==============================] - 2s 25us/step - loss: 0.2028 - accuracy: 0.9420\n",
      "Epoch 5/5\n",
      "60000/60000 [==============================] - 2s 26us/step - loss: 0.1790 - accuracy: 0.9489\n",
      "10000/10000 [==============================] - 0s 17us/step\n",
      "Epoch 1/5\n",
      "60000/60000 [==============================] - 2s 28us/step - loss: 0.3761 - accuracy: 0.8882\n",
      "Epoch 2/5\n",
      "60000/60000 [==============================] - 2s 27us/step - loss: 0.2369 - accuracy: 0.9294\n",
      "Epoch 3/5\n",
      "60000/60000 [==============================] - 2s 27us/step - loss: 0.1928 - accuracy: 0.9420\n",
      "Epoch 4/5\n",
      "60000/60000 [==============================] - 2s 27us/step - loss: 0.1644 - accuracy: 0.9502\n",
      "Epoch 5/5\n",
      "60000/60000 [==============================] - 2s 27us/step - loss: 0.1450 - accuracy: 0.9568\n",
      "10000/10000 [==============================] - 0s 16us/step\n",
      "Epoch 1/5\n",
      "60000/60000 [==============================] - 2s 29us/step - loss: 0.3712 - accuracy: 0.8882\n",
      "Epoch 2/5\n",
      "60000/60000 [==============================] - 2s 27us/step - loss: 0.2274 - accuracy: 0.9316\n",
      "Epoch 3/5\n",
      "60000/60000 [==============================] - 2s 28us/step - loss: 0.1864 - accuracy: 0.9441\n",
      "Epoch 4/5\n",
      "60000/60000 [==============================] - 2s 27us/step - loss: 0.1631 - accuracy: 0.9508\n",
      "Epoch 5/5\n",
      "60000/60000 [==============================] - 2s 27us/step - loss: 0.1440 - accuracy: 0.9564\n",
      "10000/10000 [==============================] - 0s 16us/step\n",
      "Epoch 1/5\n",
      "60000/60000 [==============================] - 2s 30us/step - loss: 0.3679 - accuracy: 0.8845\n",
      "Epoch 2/5\n",
      "60000/60000 [==============================] - 2s 29us/step - loss: 0.2035 - accuracy: 0.9389\n",
      "Epoch 3/5\n",
      "60000/60000 [==============================] - 2s 29us/step - loss: 0.1616 - accuracy: 0.9503\n",
      "Epoch 4/5\n",
      "60000/60000 [==============================] - 2s 30us/step - loss: 0.1387 - accuracy: 0.9568\n",
      "Epoch 5/5\n",
      "60000/60000 [==============================] - 2s 29us/step - loss: 0.1225 - accuracy: 0.9619\n",
      "10000/10000 [==============================] - 0s 17us/step\n",
      "Epoch 1/5\n",
      "60000/60000 [==============================] - 2s 32us/step - loss: 0.3780 - accuracy: 0.8804\n",
      "Epoch 2/5\n",
      "60000/60000 [==============================] - 2s 31us/step - loss: 0.2041 - accuracy: 0.9368\n",
      "Epoch 3/5\n",
      "60000/60000 [==============================] - 2s 31us/step - loss: 0.1632 - accuracy: 0.9498\n",
      "Epoch 4/5\n",
      "60000/60000 [==============================] - 2s 31us/step - loss: 0.1394 - accuracy: 0.9568\n",
      "Epoch 5/5\n",
      "60000/60000 [==============================] - 2s 31us/step - loss: 0.1190 - accuracy: 0.9631\n",
      "10000/10000 [==============================] - 0s 18us/step\n",
      "Epoch 1/5\n",
      "60000/60000 [==============================] - 2s 33us/step - loss: 0.3858 - accuracy: 0.8779\n",
      "Epoch 2/5\n",
      "60000/60000 [==============================] - 2s 33us/step - loss: 0.1954 - accuracy: 0.9398\n",
      "Epoch 3/5\n",
      "60000/60000 [==============================] - 2s 33us/step - loss: 0.1581 - accuracy: 0.9510\n",
      "Epoch 4/5\n",
      "60000/60000 [==============================] - 2s 33us/step - loss: 0.1315 - accuracy: 0.9584\n",
      "Epoch 5/5\n",
      "60000/60000 [==============================] - 2s 33us/step - loss: 0.1145 - accuracy: 0.9645\n",
      "10000/10000 [==============================] - 0s 17us/step\n",
      "Epoch 1/5\n",
      "60000/60000 [==============================] - 2s 36us/step - loss: 0.4208 - accuracy: 0.8629\n",
      "Epoch 2/5\n",
      "60000/60000 [==============================] - 2s 39us/step - loss: 0.2121 - accuracy: 0.9327\n",
      "Epoch 3/5\n",
      "60000/60000 [==============================] - 2s 37us/step - loss: 0.1742 - accuracy: 0.9451\n",
      "Epoch 4/5\n",
      "60000/60000 [==============================] - 2s 37us/step - loss: 0.1489 - accuracy: 0.9534\n",
      "Epoch 5/5\n",
      "60000/60000 [==============================] - 2s 36us/step - loss: 0.1329 - accuracy: 0.9584\n",
      "10000/10000 [==============================] - 0s 19us/step\n",
      "Epoch 1/5\n",
      "60000/60000 [==============================] - 2s 38us/step - loss: 0.4152 - accuracy: 0.8662\n",
      "Epoch 2/5\n",
      "60000/60000 [==============================] - 2s 37us/step - loss: 0.2041 - accuracy: 0.9359\n",
      "Epoch 3/5\n",
      "60000/60000 [==============================] - 2s 38us/step - loss: 0.1635 - accuracy: 0.9490\n",
      "Epoch 4/5\n",
      "60000/60000 [==============================] - 2s 37us/step - loss: 0.1402 - accuracy: 0.9558\n",
      "Epoch 5/5\n",
      "60000/60000 [==============================] - 2s 37us/step - loss: 0.1275 - accuracy: 0.9601\n",
      "10000/10000 [==============================] - 0s 19us/step\n",
      "Epoch 1/5\n",
      "60000/60000 [==============================] - 2s 40us/step - loss: 0.4210 - accuracy: 0.8616\n",
      "Epoch 2/5\n",
      "60000/60000 [==============================] - 2s 38us/step - loss: 0.2005 - accuracy: 0.9386\n",
      "Epoch 3/5\n",
      "60000/60000 [==============================] - 2s 38us/step - loss: 0.1613 - accuracy: 0.9509\n",
      "Epoch 4/5\n",
      "60000/60000 [==============================] - 2s 38us/step - loss: 0.1381 - accuracy: 0.9581\n",
      "Epoch 5/5\n",
      "60000/60000 [==============================] - 2s 38us/step - loss: 0.1200 - accuracy: 0.9631\n",
      "10000/10000 [==============================] - 0s 20us/step\n",
      "Epoch 1/5\n",
      "60000/60000 [==============================] - 2s 41us/step - loss: 0.5088 - accuracy: 0.8346\n",
      "Epoch 2/5\n",
      "60000/60000 [==============================] - 2s 40us/step - loss: 0.2292 - accuracy: 0.9313\n",
      "Epoch 3/5\n",
      "60000/60000 [==============================] - 2s 40us/step - loss: 0.1805 - accuracy: 0.9447\n",
      "Epoch 4/5\n",
      "60000/60000 [==============================] - 2s 40us/step - loss: 0.1521 - accuracy: 0.9539\n",
      "Epoch 5/5\n",
      "60000/60000 [==============================] - 2s 40us/step - loss: 0.1328 - accuracy: 0.9596\n",
      "10000/10000 [==============================] - 0s 20us/step\n",
      "Epoch 1/5\n",
      "60000/60000 [==============================] - 3s 42us/step - loss: 0.4918 - accuracy: 0.8411\n",
      "Epoch 2/5\n",
      "60000/60000 [==============================] - 2s 41us/step - loss: 0.2219 - accuracy: 0.9337\n",
      "Epoch 3/5\n",
      "60000/60000 [==============================] - 2s 40us/step - loss: 0.1728 - accuracy: 0.9478\n",
      "Epoch 4/5\n",
      "60000/60000 [==============================] - 2s 40us/step - loss: 0.1520 - accuracy: 0.9543 0s - loss: 0.1523 - accuracy\n",
      "Epoch 5/5\n",
      "60000/60000 [==============================] - 2s 40us/step - loss: 0.1331 - accuracy: 0.9602\n",
      "10000/10000 [==============================] - 0s 20us/step\n",
      "Epoch 1/5\n",
      "60000/60000 [==============================] - 3s 44us/step - loss: 0.4851 - accuracy: 0.8441\n",
      "Epoch 2/5\n",
      "60000/60000 [==============================] - 3s 43us/step - loss: 0.2246 - accuracy: 0.9339\n",
      "Epoch 3/5\n",
      "60000/60000 [==============================] - 3s 42us/step - loss: 0.1840 - accuracy: 0.9450\n",
      "Epoch 4/5\n",
      "60000/60000 [==============================] - 3s 42us/step - loss: 0.1586 - accuracy: 0.9538\n",
      "Epoch 5/5\n",
      "60000/60000 [==============================] - 3s 42us/step - loss: 0.1424 - accuracy: 0.9578\n",
      "10000/10000 [==============================] - 0s 21us/step\n",
      "[0.9489, 0.95678335, 0.95636666, 0.9619167, 0.9631, 0.96451664, 0.95841664, 0.9600667, 0.9631, 0.95965, 0.9601667, 0.95775]\n"
     ]
    }
   ],
   "source": [
    "inner_layers_counts=[0,1,2,3,4,5,6,7,8,9,10,11]\n",
    "accuracies=accuracies_from_inner_layers_counts(inner_layers_counts)\n",
    "print(accuracies)\n"
   ]
  },
  {
   "cell_type": "code",
   "execution_count": 8,
   "metadata": {},
   "outputs": [
    {
     "data": {
      "image/png": "[encoded data removed]",
      "text/plain": [
       "<Figure size 432x288 with 1 Axes>"
      ]
     },
     "metadata": {
      "needs_background": "light"
     },
     "output_type": "display_data"
    }
   ],
   "source": [
    "plt.plot(inner_layers_counts,accuracies)\n",
    "plt.title(\"изменение количества внутренних слоев\")\n",
    "plt.xlabel('Количество внутренних слоев')\n",
    "plt.ylabel('Точность %')\n",
    "plt.show()"
   ]
  },
  {
   "cell_type": "markdown",
   "metadata": {},
   "source": [
    "**Вывод: при увеличении количества внутренних слоев от 0 до 5 точность увеличивается, затем немного уменьшается и далее увеличивается при увеличении количества внутренних слоев от 6 до 8 и далее уменьшается вероятно из-за насыщения.\n",
    "Т.о. здесь наилучшее число слоев=5**"
   ]
  },
  {
   "cell_type": "code",
   "execution_count": 11,
   "metadata": {},
   "outputs": [],
   "source": [
    "#изменение количества нейронов слоев\n",
    "def accuracies_from_neuron_counts(inner_neuron_counts):\n",
    "    accuracies=[]    \n",
    "    for i in inner_neuron_counts:\n",
    "        layers = {1: [i,'relu',test_images.shape[1]],2: [i,'relu'],3: [i,'relu'],4: [i,'relu'],\n",
    "                  5: [i,'relu'],6: [i,'relu'],7:[10,'softmax']}\n",
    "        \n",
    "                            \n",
    "        list_keys = list(layers.keys())\n",
    "        list_keys.sort()\n",
    "        model,hist=create_model(train_images, train_labels, test_images,test_labels,layers,list_keys,\n",
    "                                optimizer_par='adam',loss_par='categorical_crossentropy',metrics_par=['accuracy'],\n",
    "                                epochs_par=5,batch_size_par=32)\n",
    "\n",
    "        # Predict on the first 5 test images.\n",
    "        predictions = model.predict(test_images[:5])\n",
    "    \n",
    "        accuracies.append(hist.history.get('accuracy')[-1])\n",
    "\n",
    "        # Print our model's predictions.\n",
    "        #print(np.argmax(predictions, axis=1)) # [7, 2, 1, 0, 4]\n",
    "\n",
    "        # Check our predictions against the ground truths.\n",
    "        #print(test_labels[:5]) # [7, 2, 1, 0, 4]\n",
    "        \n",
    "    return accuracies\n"
   ]
  },
  {
   "cell_type": "code",
   "execution_count": 12,
   "metadata": {},
   "outputs": [
    {
     "name": "stdout",
     "output_type": "stream",
     "text": [
      "Epoch 1/5\n",
      "60000/60000 [==============================] - 2s 34us/step - loss: 0.3618 - accuracy: 0.8857\n",
      "Epoch 2/5\n",
      "60000/60000 [==============================] - 2s 32us/step - loss: 0.1966 - accuracy: 0.9384\n",
      "Epoch 3/5\n",
      "60000/60000 [==============================] - 2s 32us/step - loss: 0.1592 - accuracy: 0.9503\n",
      "Epoch 4/5\n",
      "60000/60000 [==============================] - 2s 33us/step - loss: 0.1364 - accuracy: 0.9577\n",
      "Epoch 5/5\n",
      "60000/60000 [==============================] - 2s 33us/step - loss: 0.1179 - accuracy: 0.9632\n",
      "10000/10000 [==============================] - 0s 45us/step\n",
      "Epoch 1/5\n",
      "60000/60000 [==============================] - 3s 49us/step - loss: 0.3083 - accuracy: 0.9008\n",
      "Epoch 2/5\n",
      "60000/60000 [==============================] - 3s 47us/step - loss: 0.1495 - accuracy: 0.9543\n",
      "Epoch 3/5\n",
      "60000/60000 [==============================] - 3s 48us/step - loss: 0.1161 - accuracy: 0.9648\n",
      "Epoch 4/5\n",
      "60000/60000 [==============================] - 3s 48us/step - loss: 0.0992 - accuracy: 0.9686\n",
      "Epoch 5/5\n",
      "60000/60000 [==============================] - 3s 47us/step - loss: 0.0847 - accuracy: 0.9730\n",
      "10000/10000 [==============================] - 0s 21us/step\n",
      "Epoch 1/5\n",
      "60000/60000 [==============================] - 11s 181us/step - loss: 0.2836 - accuracy: 0.9136\n",
      "Epoch 2/5\n",
      "60000/60000 [==============================] - 11s 182us/step - loss: 0.1319 - accuracy: 0.9604\n",
      "Epoch 3/5\n",
      "60000/60000 [==============================] - 11s 180us/step - loss: 0.1026 - accuracy: 0.9695\n",
      "Epoch 4/5\n",
      "60000/60000 [==============================] - 11s 181us/step - loss: 0.0848 - accuracy: 0.9743\n",
      "Epoch 5/5\n",
      "60000/60000 [==============================] - 11s 182us/step - loss: 0.0719 - accuracy: 0.9780\n",
      "10000/10000 [==============================] - 0s 49us/step\n",
      "Epoch 1/5\n",
      "60000/60000 [==============================] - 44s 726us/step - loss: 0.3272 - accuracy: 0.9003\n",
      "Epoch 2/5\n",
      "60000/60000 [==============================] - 44s 730us/step - loss: 0.1396 - accuracy: 0.9593\n",
      "Epoch 3/5\n",
      "60000/60000 [==============================] - 44s 733us/step - loss: 0.1065 - accuracy: 0.9684\n",
      "Epoch 4/5\n",
      "60000/60000 [==============================] - 45s 745us/step - loss: 0.0882 - accuracy: 0.9743\n",
      "Epoch 5/5\n",
      "60000/60000 [==============================] - 46s 762us/step - loss: 0.0757 - accuracy: 0.9770\n",
      "10000/10000 [==============================] - 2s 184us/step\n",
      "[0.96316665, 0.9730333, 0.9780333, 0.9770167]\n"
     ]
    }
   ],
   "source": [
    "neuron_counts=[64,128,512,1024]\n",
    "accuracies=accuracies_from_neuron_counts(neuron_counts)\n",
    "print(accuracies)"
   ]
  },
  {
   "cell_type": "code",
   "execution_count": 13,
   "metadata": {},
   "outputs": [
    {
     "data": {
      "image/png": "[encoded data removed]",
      "text/plain": [
       "<Figure size 432x288 with 1 Axes>"
      ]
     },
     "metadata": {
      "needs_background": "light"
     },
     "output_type": "display_data"
    }
   ],
   "source": [
    "plt.plot(neuron_counts,accuracies)\n",
    "plt.title(\"изменение количества нейронов слоев\")\n",
    "plt.xlabel('Количество нейронов слоев')\n",
    "plt.ylabel('Точность %')\n",
    "plt.show()"
   ]
  },
  {
   "cell_type": "markdown",
   "metadata": {},
   "source": [
    "**Вывод: при увеличении количества нейронов в слоях сети от 64 до 512 точность увеличивается, затем немного уменьшается и остается примерно постоянной при увеличении нейронов в слоях сети от 512 и более немного уменьшаясь из-за насыщения.\n",
    "Т.о. здесь наилучшее число нейронов=512**"
   ]
  },
  {
   "cell_type": "code",
   "execution_count": 19,
   "metadata": {},
   "outputs": [],
   "source": [
    "#изменяем optimizer - позволяет задать алгоритм, который будет осуществлять изменения весов по всей нейронной сети (backpropagation)\n",
    "\n",
    "def accuracies_from_optimizers(optimizers):\n",
    "    accuracies=[] \n",
    "    layers = {1: [512,'relu',test_images.shape[1]],2: [512,'relu'],3: [512,'relu'],4: [512,'relu'],\n",
    "                  5: [512,'relu'],6: [512,'relu'],7:[10,'softmax']}\n",
    "    for optimizer in optimizers:\n",
    "        list_keys = list(layers.keys())\n",
    "        list_keys.sort()\n",
    "        model,hist=create_model(train_images, train_labels, test_images,test_labels,layers,list_keys,\n",
    "                                optimizer_par=optimizer,loss_par='categorical_crossentropy',metrics_par=['accuracy'],\n",
    "                                epochs_par=5,batch_size_par=32)\n",
    "\n",
    "        # Predict on the first 5 test images.\n",
    "        predictions = model.predict(test_images[:5])\n",
    "    \n",
    "        accuracies.append(hist.history.get('accuracy')[-1])\n",
    "\n",
    "        # Print our model's predictions.\n",
    "        #print(np.argmax(predictions, axis=1)) # [7, 2, 1, 0, 4]\n",
    "\n",
    "        # Check our predictions against the ground truths.\n",
    "        #print(test_labels[:5]) # [7, 2, 1, 0, 4]\n",
    "        \n",
    "    return accuracies\n",
    "\n",
    "    "
   ]
  },
  {
   "cell_type": "code",
   "execution_count": 20,
   "metadata": {},
   "outputs": [
    {
     "name": "stdout",
     "output_type": "stream",
     "text": [
      "Epoch 1/5\n",
      "60000/60000 [==============================] - 9s 154us/step - loss: 0.6145 - accuracy: 0.8177\n",
      "Epoch 2/5\n",
      "60000/60000 [==============================] - 9s 154us/step - loss: 0.2317 - accuracy: 0.9296\n",
      "Epoch 3/5\n",
      "60000/60000 [==============================] - 9s 154us/step - loss: 0.1682 - accuracy: 0.9483\n",
      "Epoch 4/5\n",
      "60000/60000 [==============================] - 9s 154us/step - loss: 0.1307 - accuracy: 0.9604\n",
      "Epoch 5/5\n",
      "60000/60000 [==============================] - 9s 151us/step - loss: 0.1055 - accuracy: 0.9679\n",
      "10000/10000 [==============================] - 1s 64us/step\n",
      "Epoch 1/5\n",
      "60000/60000 [==============================] - 9s 154us/step - loss: nan - accuracy: 0.0987\n",
      "Epoch 2/5\n",
      "60000/60000 [==============================] - 9s 153us/step - loss: nan - accuracy: 0.0987\n",
      "Epoch 3/5\n",
      "60000/60000 [==============================] - 10s 164us/step - loss: nan - accuracy: 0.0987\n",
      "Epoch 4/5\n",
      "60000/60000 [==============================] - 9s 153us/step - loss: nan - accuracy: 0.0987\n",
      "Epoch 5/5\n",
      "60000/60000 [==============================] - 9s 153us/step - loss: nan - accuracy: 0.0987\n",
      "10000/10000 [==============================] - 0s 47us/step\n",
      "Epoch 1/5\n",
      "60000/60000 [==============================] - 11s 179us/step - loss: 0.2935 - accuracy: 0.9100\n",
      "Epoch 2/5\n",
      "60000/60000 [==============================] - 11s 178us/step - loss: 0.1347 - accuracy: 0.9594\n",
      "Epoch 3/5\n",
      "60000/60000 [==============================] - 11s 178us/step - loss: 0.1037 - accuracy: 0.9684\n",
      "Epoch 4/5\n",
      "60000/60000 [==============================] - 11s 179us/step - loss: 0.0843 - accuracy: 0.9743\n",
      "Epoch 5/5\n",
      "60000/60000 [==============================] - 11s 179us/step - loss: 0.0743 - accuracy: 0.9772\n",
      "10000/10000 [==============================] - 0s 48us/step\n",
      "Epoch 1/5\n",
      "60000/60000 [==============================] - 12s 195us/step - loss: 2.2194 - accuracy: 0.3861\n",
      "Epoch 2/5\n",
      "60000/60000 [==============================] - 12s 198us/step - loss: 1.8559 - accuracy: 0.6212\n",
      "Epoch 3/5\n",
      "60000/60000 [==============================] - 12s 205us/step - loss: 1.2764 - accuracy: 0.7377\n",
      "Epoch 4/5\n",
      "60000/60000 [==============================] - 13s 211us/step - loss: 0.8910 - accuracy: 0.7950\n",
      "Epoch 5/5\n",
      "60000/60000 [==============================] - 12s 206us/step - loss: 0.6939 - accuracy: 0.8252\n",
      "10000/10000 [==============================] - 1s 57us/step\n",
      "Epoch 1/5\n",
      "60000/60000 [==============================] - 10s 168us/step - loss: 0.2843 - accuracy: 0.9107\n",
      "Epoch 2/5\n",
      "60000/60000 [==============================] - 11s 178us/step - loss: 0.1475 - accuracy: 0.9548\n",
      "Epoch 3/5\n",
      "60000/60000 [==============================] - 11s 180us/step - loss: 0.1172 - accuracy: 0.9653\n",
      "Epoch 4/5\n",
      "60000/60000 [==============================] - 11s 187us/step - loss: 0.0984 - accuracy: 0.9706\n",
      "Epoch 5/5\n",
      "60000/60000 [==============================] - 10s 167us/step - loss: 0.0860 - accuracy: 0.9736\n",
      "10000/10000 [==============================] - 0s 49us/step\n",
      "Epoch 1/5\n",
      "60000/60000 [==============================] - 11s 181us/step - loss: 0.4088 - accuracy: 0.8835\n",
      "Epoch 2/5\n",
      "60000/60000 [==============================] - 11s 188us/step - loss: 0.2131 - accuracy: 0.9411\n",
      "Epoch 3/5\n",
      "60000/60000 [==============================] - 11s 178us/step - loss: 0.1622 - accuracy: 0.9556\n",
      "Epoch 4/5\n",
      "60000/60000 [==============================] - 11s 189us/step - loss: 0.1311 - accuracy: 0.9651\n",
      "Epoch 5/5\n",
      "60000/60000 [==============================] - 11s 180us/step - loss: 0.1099 - accuracy: 0.9693\n",
      "10000/10000 [==============================] - 0s 48us/step\n",
      "Epoch 1/5\n",
      "60000/60000 [==============================] - 11s 178us/step - loss: nan - accuracy: 0.0988\n",
      "Epoch 2/5\n",
      "60000/60000 [==============================] - 10s 164us/step - loss: nan - accuracy: 0.0987\n",
      "Epoch 3/5\n",
      "60000/60000 [==============================] - 12s 197us/step - loss: nan - accuracy: 0.0987\n",
      "Epoch 4/5\n",
      "60000/60000 [==============================] - 10s 165us/step - loss: nan - accuracy: 0.0987\n",
      "Epoch 5/5\n",
      "60000/60000 [==============================] - 10s 166us/step - loss: nan - accuracy: 0.0987\n",
      "10000/10000 [==============================] - 1s 98us/step\n",
      "Epoch 1/5\n",
      "60000/60000 [==============================] - 13s 212us/step - loss: 2.3024 - accuracy: 0.1115\n",
      "Epoch 2/5\n",
      "60000/60000 [==============================] - 13s 219us/step - loss: 2.3022 - accuracy: 0.1124\n",
      "Epoch 3/5\n",
      "60000/60000 [==============================] - 14s 231us/step - loss: 2.3021 - accuracy: 0.1124\n",
      "Epoch 4/5\n",
      "60000/60000 [==============================] - 15s 243us/step - loss: 2.3020 - accuracy: 0.1124\n",
      "Epoch 5/5\n",
      "60000/60000 [==============================] - 14s 227us/step - loss: 2.3019 - accuracy: 0.1124\n",
      "10000/10000 [==============================] - 0s 50us/step\n",
      "[0.9679, 0.09871667, 0.97718334, 0.82518333, 0.97358334, 0.96935, 0.09871667, 0.11236667]\n"
     ]
    }
   ],
   "source": [
    "optimizers=['SGD','rmsprop','adam','adadelta','adagrad','adamax','nadam','ftrl']\n",
    "accuracies=accuracies_from_optimizers(optimizers)\n",
    "print(accuracies)"
   ]
  },
  {
   "cell_type": "code",
   "execution_count": 21,
   "metadata": {},
   "outputs": [
    {
     "data": {
      "image/png": "[encoded data removed]",
      "text/plain": [
       "<Figure size 432x288 with 1 Axes>"
      ]
     },
     "metadata": {
      "needs_background": "light"
     },
     "output_type": "display_data"
    }
   ],
   "source": [
    "plt.plot(optimizers,accuracies)\n",
    "plt.title(\"изменение optimizer\")\n",
    "plt.xlabel('Optimizers')\n",
    "plt.ylabel('Точность %')\n",
    "plt.show()"
   ]
  },
  {
   "cell_type": "markdown",
   "metadata": {},
   "source": [
    "**Вывод: Наибольшее значение точности - для optimizer='SGD','adam','adagrad','adamax'**"
   ]
  },
  {
   "cell_type": "code",
   "execution_count": 23,
   "metadata": {},
   "outputs": [],
   "source": [
    "#изменяем количество эпох - итераций обучения\n",
    "def accuracies_from_epochs(epochs):\n",
    "    accuracies=[] \n",
    "    layers = {1: [512,'relu',test_images.shape[1]],2: [512,'relu'],3: [512,'relu'],4: [512,'relu'],\n",
    "                  5: [512,'relu'],6: [512,'relu'],7:[10,'softmax']}\n",
    "    for epoch in epochs:\n",
    "        list_keys = list(layers.keys())\n",
    "        list_keys.sort()\n",
    "        model,hist=create_model(train_images, train_labels, test_images,test_labels,layers,list_keys,\n",
    "                                optimizer_par='adam',loss_par='categorical_crossentropy',metrics_par=['accuracy'],\n",
    "                                epochs_par=epoch,batch_size_par=32)\n",
    "\n",
    "        # Predict on the first 5 test images.\n",
    "        predictions = model.predict(test_images[:5])\n",
    "    \n",
    "        accuracies.append(hist.history.get('accuracy')[-1])\n",
    "\n",
    "        # Print our model's predictions.\n",
    "        #print(np.argmax(predictions, axis=1)) # [7, 2, 1, 0, 4]\n",
    "\n",
    "        # Check our predictions against the ground truths.\n",
    "        #print(test_labels[:5]) # [7, 2, 1, 0, 4]\n",
    "        \n",
    "    return accuracies\n",
    "\n"
   ]
  },
  {
   "cell_type": "code",
   "execution_count": 24,
   "metadata": {},
   "outputs": [
    {
     "name": "stdout",
     "output_type": "stream",
     "text": [
      "Epoch 1/3\n",
      "60000/60000 [==============================] - 11s 177us/step - loss: 0.2933 - accuracy: 0.9090\n",
      "Epoch 2/3\n",
      "60000/60000 [==============================] - 11s 177us/step - loss: 0.1342 - accuracy: 0.9600\n",
      "Epoch 3/3\n",
      "60000/60000 [==============================] - 11s 177us/step - loss: 0.1031 - accuracy: 0.9695\n",
      "10000/10000 [==============================] - 1s 51us/step\n",
      "Epoch 1/5\n",
      "60000/60000 [==============================] - 10s 174us/step - loss: 0.2898 - accuracy: 0.9110\n",
      "Epoch 2/5\n",
      "60000/60000 [==============================] - 11s 175us/step - loss: 0.1330 - accuracy: 0.9599\n",
      "Epoch 3/5\n",
      "60000/60000 [==============================] - 11s 175us/step - loss: 0.1008 - accuracy: 0.9694\n",
      "Epoch 4/5\n",
      "60000/60000 [==============================] - 11s 177us/step - loss: 0.0827 - accuracy: 0.9750\n",
      "Epoch 5/5\n",
      "60000/60000 [==============================] - 10s 174us/step - loss: 0.0702 - accuracy: 0.9779\n",
      "10000/10000 [==============================] - 0s 47us/step\n",
      "Epoch 1/7\n",
      "60000/60000 [==============================] - 11s 179us/step - loss: 0.2922 - accuracy: 0.9096\n",
      "Epoch 2/7\n",
      "60000/60000 [==============================] - 11s 179us/step - loss: 0.1358 - accuracy: 0.9588\n",
      "Epoch 3/7\n",
      "60000/60000 [==============================] - 12s 195us/step - loss: 0.1046 - accuracy: 0.9680\n",
      "Epoch 4/7\n",
      "60000/60000 [==============================] - 11s 178us/step - loss: 0.0849 - accuracy: 0.9739\n",
      "Epoch 5/7\n",
      "60000/60000 [==============================] - 11s 182us/step - loss: 0.0729 - accuracy: 0.9779\n",
      "Epoch 6/7\n",
      "60000/60000 [==============================] - 11s 177us/step - loss: 0.0641 - accuracy: 0.9806\n",
      "Epoch 7/7\n",
      "60000/60000 [==============================] - 11s 179us/step - loss: 0.0548 - accuracy: 0.9832\n",
      "10000/10000 [==============================] - 0s 48us/step\n",
      "Epoch 1/9\n",
      "60000/60000 [==============================] - 11s 177us/step - loss: 0.2915 - accuracy: 0.9114\n",
      "Epoch 2/9\n",
      "60000/60000 [==============================] - 12s 201us/step - loss: 0.1308 - accuracy: 0.9611\n",
      "Epoch 3/9\n",
      "60000/60000 [==============================] - 12s 202us/step - loss: 0.1005 - accuracy: 0.9704\n",
      "Epoch 4/9\n",
      "60000/60000 [==============================] - 12s 198us/step - loss: 0.0826 - accuracy: 0.9749\n",
      "Epoch 5/9\n",
      "60000/60000 [==============================] - 12s 192us/step - loss: 0.0699 - accuracy: 0.9783\n",
      "Epoch 6/9\n",
      "60000/60000 [==============================] - 12s 201us/step - loss: 0.0610 - accuracy: 0.9818\n",
      "Epoch 7/9\n",
      "60000/60000 [==============================] - 12s 199us/step - loss: 0.0537 - accuracy: 0.9830\n",
      "Epoch 8/9\n",
      "60000/60000 [==============================] - 11s 187us/step - loss: 0.0476 - accuracy: 0.9856\n",
      "Epoch 9/9\n",
      "60000/60000 [==============================] - 12s 198us/step - loss: 0.0423 - accuracy: 0.9868\n",
      "10000/10000 [==============================] - 1s 51us/step\n",
      "Epoch 1/12\n",
      "60000/60000 [==============================] - 11s 187us/step - loss: 0.2853 - accuracy: 0.9126\n",
      "Epoch 2/12\n",
      "60000/60000 [==============================] - 12s 202us/step - loss: 0.1315 - accuracy: 0.9602\n",
      "Epoch 3/12\n",
      "60000/60000 [==============================] - 11s 186us/step - loss: 0.1013 - accuracy: 0.9696\n",
      "Epoch 4/12\n",
      "60000/60000 [==============================] - 12s 196us/step - loss: 0.0844 - accuracy: 0.9747\n",
      "Epoch 5/12\n",
      "60000/60000 [==============================] - 12s 196us/step - loss: 0.0699 - accuracy: 0.9783\n",
      "Epoch 6/12\n",
      "60000/60000 [==============================] - 12s 196us/step - loss: 0.0615 - accuracy: 0.9819\n",
      "Epoch 7/12\n",
      "60000/60000 [==============================] - 11s 185us/step - loss: 0.0543 - accuracy: 0.9837\n",
      "Epoch 8/12\n",
      "60000/60000 [==============================] - 12s 197us/step - loss: 0.0495 - accuracy: 0.9849\n",
      "Epoch 9/12\n",
      "60000/60000 [==============================] - 12s 196us/step - loss: 0.0461 - accuracy: 0.9852\n",
      "Epoch 10/12\n",
      "60000/60000 [==============================] - 12s 192us/step - loss: 0.0404 - accuracy: 0.9876\n",
      "Epoch 11/12\n",
      "60000/60000 [==============================] - 12s 198us/step - loss: 0.0381 - accuracy: 0.9878\n",
      "Epoch 12/12\n",
      "60000/60000 [==============================] - 11s 187us/step - loss: 0.0351 - accuracy: 0.9894\n",
      "10000/10000 [==============================] - 1s 50us/step\n",
      "[0.9695167, 0.97788334, 0.98315, 0.9867833, 0.98936665]\n"
     ]
    }
   ],
   "source": [
    "epochs=[3,5,7,9,12]\n",
    "accuracies=accuracies_from_epochs(epochs)\n",
    "print(accuracies)"
   ]
  },
  {
   "cell_type": "code",
   "execution_count": 25,
   "metadata": {},
   "outputs": [
    {
     "data": {
      "image/png": "[encoded data removed]",
      "text/plain": [
       "<Figure size 432x288 with 1 Axes>"
      ]
     },
     "metadata": {
      "needs_background": "light"
     },
     "output_type": "display_data"
    }
   ],
   "source": [
    "plt.plot(epochs,accuracies)\n",
    "plt.title(\"изменение epochs\")\n",
    "plt.xlabel('Epochs')\n",
    "plt.ylabel('Точность %')\n",
    "plt.show()"
   ]
  },
  {
   "cell_type": "markdown",
   "metadata": {},
   "source": [
    "**Вывод: C увеличением количества эпох (определяет сколько раз через нейросеть должен пройти весь набор данных) увеличивается точность**"
   ]
  },
  {
   "cell_type": "code",
   "execution_count": 29,
   "metadata": {},
   "outputs": [],
   "source": [
    "#изменяем bath_size - определяет количество обучающих примеров передающихся нейросети на каждой итерации обучения\n",
    "def accuracies_from_bath_sizes(bath_sizes):\n",
    "    accuracies=[] \n",
    "    layers = {1: [512,'relu',test_images.shape[1]],2: [512,'relu'],3: [512,'relu'],4: [512,'relu'],\n",
    "                  5: [512,'relu'],6: [512,'relu'],7:[10,'softmax']}\n",
    "    for bath_size in bath_sizes:\n",
    "        list_keys = list(layers.keys())\n",
    "        list_keys.sort()\n",
    "        model,hist=create_model(train_images, train_labels, test_images,test_labels,layers,list_keys,\n",
    "                                optimizer_par='adam',loss_par='categorical_crossentropy',metrics_par=['accuracy'],\n",
    "                                epochs_par=12,batch_size_par=bath_size)\n",
    "\n",
    "        # Predict on the first 5 test images.\n",
    "        predictions = model.predict(test_images[:5])\n",
    "    \n",
    "        accuracies.append(hist.history.get('accuracy')[-1])\n",
    "\n",
    "        # Print our model's predictions.\n",
    "        #print(np.argmax(predictions, axis=1)) # [7, 2, 1, 0, 4]\n",
    "\n",
    "        # Check our predictions against the ground truths.\n",
    "        #print(test_labels[:5]) # [7, 2, 1, 0, 4]\n",
    "        \n",
    "    return accuracies\n",
    "\n"
   ]
  },
  {
   "cell_type": "code",
   "execution_count": 30,
   "metadata": {},
   "outputs": [
    {
     "name": "stdout",
     "output_type": "stream",
     "text": [
      "Epoch 1/12\n",
      "60000/60000 [==============================] - 18s 300us/step - loss: 0.3123 - accuracy: 0.9055\n",
      "Epoch 2/12\n",
      "60000/60000 [==============================] - 18s 297us/step - loss: 0.1490 - accuracy: 0.9560\n",
      "Epoch 3/12\n",
      "60000/60000 [==============================] - 18s 298us/step - loss: 0.1181 - accuracy: 0.9658\n",
      "Epoch 4/12\n",
      "60000/60000 [==============================] - 19s 309us/step - loss: 0.0975 - accuracy: 0.9713\n",
      "Epoch 5/12\n",
      "60000/60000 [==============================] - 18s 306us/step - loss: 0.0817 - accuracy: 0.9763\n",
      "Epoch 6/12\n",
      "60000/60000 [==============================] - 18s 308us/step - loss: 0.0728 - accuracy: 0.9783\n",
      "Epoch 7/12\n",
      "60000/60000 [==============================] - 19s 310us/step - loss: 0.0634 - accuracy: 0.9811\n",
      "Epoch 8/12\n",
      "60000/60000 [==============================] - 20s 338us/step - loss: 0.0582 - accuracy: 0.9819\n",
      "Epoch 9/12\n",
      "60000/60000 [==============================] - 20s 330us/step - loss: 0.0526 - accuracy: 0.9833\n",
      "Epoch 10/12\n",
      "60000/60000 [==============================] - 20s 341us/step - loss: 0.0493 - accuracy: 0.9848\n",
      "Epoch 11/12\n",
      "60000/60000 [==============================] - 20s 327us/step - loss: 0.0452 - accuracy: 0.9864\n",
      "Epoch 12/12\n",
      "60000/60000 [==============================] - 20s 327us/step - loss: 0.0423 - accuracy: 0.9875\n",
      "10000/10000 [==============================] - 1s 53us/step\n",
      "Epoch 1/12\n",
      "60000/60000 [==============================] - 11s 184us/step - loss: 0.2925 - accuracy: 0.9094\n",
      "Epoch 2/12\n",
      "60000/60000 [==============================] - 11s 192us/step - loss: 0.1347 - accuracy: 0.9590\n",
      "Epoch 3/12\n",
      "60000/60000 [==============================] - 11s 191us/step - loss: 0.1036 - accuracy: 0.9698\n",
      "Epoch 4/12\n",
      "60000/60000 [==============================] - 11s 184us/step - loss: 0.0841 - accuracy: 0.9740\n",
      "Epoch 5/12\n",
      "60000/60000 [==============================] - 11s 186us/step - loss: 0.0710 - accuracy: 0.9780\n",
      "Epoch 6/12\n",
      "60000/60000 [==============================] - 11s 183us/step - loss: 0.0620 - accuracy: 0.9808\n",
      "Epoch 7/12\n",
      "60000/60000 [==============================] - 11s 184us/step - loss: 0.0564 - accuracy: 0.9824\n",
      "Epoch 8/12\n",
      "60000/60000 [==============================] - 12s 202us/step - loss: 0.0490 - accuracy: 0.9849\n",
      "Epoch 9/12\n",
      "60000/60000 [==============================] - 12s 194us/step - loss: 0.0451 - accuracy: 0.9858\n",
      "Epoch 10/12\n",
      "60000/60000 [==============================] - 11s 176us/step - loss: 0.0417 - accuracy: 0.9869\n",
      "Epoch 11/12\n",
      "60000/60000 [==============================] - 12s 201us/step - loss: 0.0375 - accuracy: 0.9883\n",
      "Epoch 12/12\n",
      "60000/60000 [==============================] - 12s 196us/step - loss: 0.0333 - accuracy: 0.9896\n",
      "10000/10000 [==============================] - 1s 55us/step\n",
      "Epoch 1/12\n",
      "60000/60000 [==============================] - 9s 154us/step - loss: 0.2993 - accuracy: 0.9062\n",
      "Epoch 2/12\n",
      "60000/60000 [==============================] - 9s 155us/step - loss: 0.1261 - accuracy: 0.9615\n",
      "Epoch 3/12\n",
      "60000/60000 [==============================] - 10s 164us/step - loss: 0.0905 - accuracy: 0.9722\n",
      "Epoch 4/12\n",
      "60000/60000 [==============================] - 9s 155us/step - loss: 0.0762 - accuracy: 0.9764\n",
      "Epoch 5/12\n",
      "60000/60000 [==============================] - 10s 163us/step - loss: 0.0594 - accuracy: 0.9816\n",
      "Epoch 6/12\n",
      "60000/60000 [==============================] - 9s 156us/step - loss: 0.0539 - accuracy: 0.9837\n",
      "Epoch 7/12\n",
      "60000/60000 [==============================] - 10s 165us/step - loss: 0.0498 - accuracy: 0.9839\n",
      "Epoch 8/12\n",
      "60000/60000 [==============================] - 10s 165us/step - loss: 0.0413 - accuracy: 0.9870\n",
      "Epoch 9/12\n",
      "60000/60000 [==============================] - 9s 154us/step - loss: 0.0381 - accuracy: 0.9875\n",
      "Epoch 10/12\n",
      "60000/60000 [==============================] - 10s 161us/step - loss: 0.0344 - accuracy: 0.9892\n",
      "Epoch 11/12\n",
      "60000/60000 [==============================] - 9s 156us/step - loss: 0.0301 - accuracy: 0.9907\n",
      "Epoch 12/12\n",
      "60000/60000 [==============================] - 9s 153us/step - loss: 0.0278 - accuracy: 0.9915\n",
      "10000/10000 [==============================] - 0s 49us/step\n",
      "Epoch 1/12\n",
      "60000/60000 [==============================] - 6s 95us/step - loss: 0.3160 - accuracy: 0.8992\n",
      "Epoch 2/12\n",
      "60000/60000 [==============================] - 6s 97us/step - loss: 0.1144 - accuracy: 0.9650\n",
      "Epoch 3/12\n",
      "60000/60000 [==============================] - 6s 98us/step - loss: 0.0850 - accuracy: 0.9736\n",
      "Epoch 4/12\n",
      "60000/60000 [==============================] - 6s 98us/step - loss: 0.0660 - accuracy: 0.9792\n",
      "Epoch 5/12\n",
      "60000/60000 [==============================] - 6s 96us/step - loss: 0.0533 - accuracy: 0.9832\n",
      "Epoch 6/12\n",
      "60000/60000 [==============================] - 6s 94us/step - loss: 0.0473 - accuracy: 0.9850\n",
      "Epoch 7/12\n",
      "60000/60000 [==============================] - 6s 97us/step - loss: 0.0388 - accuracy: 0.9869\n",
      "Epoch 8/12\n",
      "60000/60000 [==============================] - 6s 96us/step - loss: 0.0349 - accuracy: 0.9887\n",
      "Epoch 9/12\n",
      "60000/60000 [==============================] - 6s 93us/step - loss: 0.0311 - accuracy: 0.9903\n",
      "Epoch 10/12\n",
      "60000/60000 [==============================] - 6s 93us/step - loss: 0.0268 - accuracy: 0.9917\n",
      "Epoch 11/12\n",
      "60000/60000 [==============================] - 6s 96us/step - loss: 0.0250 - accuracy: 0.9920\n",
      "Epoch 12/12\n",
      "60000/60000 [==============================] - 6s 94us/step - loss: 0.0245 - accuracy: 0.9919\n",
      "10000/10000 [==============================] - 1s 50us/step\n",
      "[0.9874667, 0.9896167, 0.99151665, 0.99195]\n"
     ]
    }
   ],
   "source": [
    "bath_sizes=[16,32,64,128]\n",
    "accuracies=accuracies_from_bath_sizes(bath_sizes)\n",
    "print(accuracies)"
   ]
  },
  {
   "cell_type": "code",
   "execution_count": 31,
   "metadata": {},
   "outputs": [
    {
     "data": {
      "image/png": "[encoded data removed]",
      "text/plain": [
       "<Figure size 432x288 with 1 Axes>"
      ]
     },
     "metadata": {
      "needs_background": "light"
     },
     "output_type": "display_data"
    }
   ],
   "source": [
    "plt.plot(bath_sizes,accuracies)\n",
    "plt.title(\"изменение bath_sizes\")\n",
    "plt.xlabel('bath_sizes')\n",
    "plt.ylabel('Точность %')\n",
    "plt.show()"
   ]
  },
  {
   "cell_type": "markdown",
   "metadata": {},
   "source": [
    "**Вывод: C увеличением количества обучающих примеров передающихся нейросети на каждой итерации увеличивается точность  и достигает макимума при bath_size=128 - accuracy=0.992**"
   ]
  },
  {
   "cell_type": "code",
   "execution_count": 34,
   "metadata": {},
   "outputs": [],
   "source": [
    "def accuracies_for_test_data():\n",
    "    \n",
    "    layers = {1: [512,'relu',test_images.shape[1]],2: [512,'relu'],3: [512,'relu'],4: [512,'relu'],\n",
    "                  5: [512,'relu'],6: [512,'relu'],7:[10,'softmax']}\n",
    "    \n",
    "    list_keys = list(layers.keys())\n",
    "    list_keys.sort()\n",
    "    model,hist=create_model(train_images, train_labels, test_images,test_labels,layers,list_keys,\n",
    "                                optimizer_par='adam',loss_par='categorical_crossentropy',metrics_par=['accuracy'],\n",
    "                                epochs_par=12,batch_size_par=128)\n",
    "\n",
    "        # Predict on the first 5 test images.\n",
    "    predictions = model.predict(test_images[:5])\n",
    "    \n",
    "    test_loss, test_acc=model.evaluate(\n",
    "        test_images,\n",
    "        to_categorical(test_labels)\n",
    "        )\n",
    "\n",
    "        # Print our model's predictions.\n",
    "        #print(np.argmax(predictions, axis=1)) # [7, 2, 1, 0, 4]\n",
    "\n",
    "        # Check our predictions against the ground truths.\n",
    "        #print(test_labels[:5]) # [7, 2, 1, 0, 4]\n",
    "        \n",
    "    return test_loss, test_acc"
   ]
  },
  {
   "cell_type": "code",
   "execution_count": 35,
   "metadata": {},
   "outputs": [
    {
     "name": "stdout",
     "output_type": "stream",
     "text": [
      "Epoch 1/12\n",
      "60000/60000 [==============================] - 5s 83us/step - loss: 0.3151 - accuracy: 0.9002\n",
      "Epoch 2/12\n",
      "60000/60000 [==============================] - 5s 81us/step - loss: 0.1173 - accuracy: 0.9643\n",
      "Epoch 3/12\n",
      "60000/60000 [==============================] - 5s 83us/step - loss: 0.0862 - accuracy: 0.9736\n",
      "Epoch 4/12\n",
      "60000/60000 [==============================] - 5s 83us/step - loss: 0.0640 - accuracy: 0.9807\n",
      "Epoch 5/12\n",
      "60000/60000 [==============================] - 5s 82us/step - loss: 0.0531 - accuracy: 0.9829\n",
      "Epoch 6/12\n",
      "60000/60000 [==============================] - 5s 82us/step - loss: 0.0445 - accuracy: 0.9861\n",
      "Epoch 7/12\n",
      "60000/60000 [==============================] - 5s 83us/step - loss: 0.0397 - accuracy: 0.9873\n",
      "Epoch 8/12\n",
      "60000/60000 [==============================] - 5s 82us/step - loss: 0.0360 - accuracy: 0.9883\n",
      "Epoch 9/12\n",
      "60000/60000 [==============================] - 6s 93us/step - loss: 0.0324 - accuracy: 0.9893\n",
      "Epoch 10/12\n",
      "60000/60000 [==============================] - 5s 91us/step - loss: 0.0273 - accuracy: 0.9912\n",
      "Epoch 11/12\n",
      "60000/60000 [==============================] - 5s 91us/step - loss: 0.0236 - accuracy: 0.9925\n",
      "Epoch 12/12\n",
      "60000/60000 [==============================] - 5s 91us/step - loss: 0.0237 - accuracy: 0.9919\n",
      "10000/10000 [==============================] - 0s 45us/step\n",
      "10000/10000 [==============================] - 0s 44us/step\n",
      "test_loss= 0.0861507645274185\n",
      "test_acc= 0.9768999814987183\n"
     ]
    }
   ],
   "source": [
    "test_loss, test_acc=accuracies_for_test_data()\n",
    "print('test_loss=',test_loss)\n",
    "print('test_acc=',test_acc)"
   ]
  },
  {
   "cell_type": "markdown",
   "metadata": {},
   "source": [
    "**Общий вывод: подбирая параметры сети нужным образом удалось добиться достаточно большой точности на тренировочных данных, в частности этого удалось добиться путем установки следующих параметров: layers_count=7 (5 внутренних), neuron_count=512 (в каждом слое кроме выходного),optimizer='adam',epochs=12, bath_size=128. Точность на тренировочных данных=0.992, на тестовом наборе данных=0.977, что совсем неплохо, хотя есть небольшое переобучение. При этом конечно учитывалось и ограничения по ресурсам.**"
   ]
  },
  {
   "cell_type": "markdown",
   "metadata": {},
   "source": [
    "Задание 2\n",
    "    \n",
    "Поработайте с документацией Keras. Попробуйте найти полезные команды Keras неразобранные на уроке."
   ]
  },
  {
   "cell_type": "code",
   "execution_count": 40,
   "metadata": {},
   "outputs": [],
   "source": [
    "# Callbacks API - позволяет вызвать ф-ции на различных стадиях обучения\n",
    "# в частности делать ранние остановы, периодически сохранять на диск логи и модель и т.д.\n",
    "from keras import callbacks\n",
    "my_callbacks = [\n",
    "    callbacks.EarlyStopping(patience=2),\n",
    "    callbacks.ModelCheckpoint(filepath='model.{epoch:02d}-{val_loss:.2f}.h5'),\n",
    "    callbacks.TensorBoard(log_dir='./logs'),\n",
    "]\n",
    "#model.fit(dataset, epochs=10, callbacks=my_callbacks)"
   ]
  },
  {
   "cell_type": "code",
   "execution_count": 46,
   "metadata": {},
   "outputs": [
    {
     "name": "stdout",
     "output_type": "stream",
     "text": [
      "Requirement already satisfied: pydot in c:\\users\\windows\\anaconda3\\lib\\site-packages (1.4.1)\n",
      "Requirement already satisfied: pyparsing>=2.1.4 in c:\\users\\windows\\anaconda3\\lib\\site-packages (from pydot) (2.4.2)\n"
     ]
    }
   ],
   "source": [
    "!pip install pydot"
   ]
  },
  {
   "cell_type": "code",
   "execution_count": 52,
   "metadata": {},
   "outputs": [
    {
     "name": "stdout",
     "output_type": "stream",
     "text": [
      "Requirement already satisfied: pydotplus in c:\\users\\windows\\anaconda3\\lib\\site-packages (2.0.2)\n",
      "Requirement already satisfied: pyparsing>=2.0.1 in c:\\users\\windows\\anaconda3\\lib\\site-packages (from pydotplus) (2.4.2)\n"
     ]
    }
   ],
   "source": [
    "!pip install pydotplus"
   ]
  },
  {
   "cell_type": "code",
   "execution_count": 56,
   "metadata": {},
   "outputs": [
    {
     "name": "stdout",
     "output_type": "stream",
     "text": [
      "Epoch 1/2\n",
      "60000/60000 [==============================] - 5s 88us/step - loss: 0.3170 - accuracy: 0.9003\n",
      "Epoch 2/2\n",
      "60000/60000 [==============================] - 5s 89us/step - loss: 0.1175 - accuracy: 0.9645\n",
      "10000/10000 [==============================] - 0s 49us/step\n"
     ]
    },
    {
     "data": {
      "image/png": "[encoded data removed]",
      "text/plain": [
       "<IPython.core.display.Image object>"
      ]
     },
     "execution_count": 56,
     "metadata": {},
     "output_type": "execute_result"
    }
   ],
   "source": [
    "#Также полезны разные утилиты, например utils.plot_model -Converts a Keras model to dot format and save to a file. \n",
    "from keras import utils\n",
    "import pydotplus\n",
    "from keras.utils.vis_utils import model_to_dot\n",
    "import pydot\n",
    "layers = {1: [512,'relu',test_images.shape[1]],2: [512,'relu'],3: [512,'relu'],4: [512,'relu'],\n",
    "                  5: [512,'relu'],6: [512,'relu'],7:[10,'softmax']}\n",
    "    \n",
    "list_keys = list(layers.keys())\n",
    "list_keys.sort()\n",
    "model,hist=create_model(train_images, train_labels, test_images,test_labels,layers,list_keys,\n",
    "                                optimizer_par='adam',loss_par='categorical_crossentropy',metrics_par=['accuracy'],\n",
    "                                epochs_par=2,batch_size_par=128)\n",
    "\n",
    "utils.vis_utils.pydot = pydot\n",
    "utils.plot_model(model, to_file='model.png')\n",
    "\n"
   ]
  },
  {
   "cell_type": "code",
   "execution_count": null,
   "metadata": {},
   "outputs": [],
   "source": []
  }
 ],
 "metadata": {
  "kernelspec": {
   "display_name": "Python 3",
   "language": "python",
   "name": "python3"
  },
  "language_info": {
   "codemirror_mode": {
    "name": "ipython",
    "version": 3
   },
   "file_extension": ".py",
   "mimetype": "text/x-python",
   "name": "python",
   "nbconvert_exporter": "python",
   "pygments_lexer": "ipython3",
   "version": "3.7.4"
  }
 },
 "nbformat": 4,
 "nbformat_minor": 2
}
