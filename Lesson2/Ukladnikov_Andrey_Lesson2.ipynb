{
 "cells": [
  {
   "cell_type": "markdown",
   "metadata": {},
   "source": [
    "# Урок 2. Keras"
   ]
  },
  {
   "cell_type": "markdown",
   "metadata": {},
   "source": [
    "ЗАДАНИЕ 1\n",
    "\n",
    "Попробуйте обучить, нейронную сеть на Keras(рассмотренную на уроке) на датасете MNIST с другими параметрами. \n",
    "Опишите в комментарии к уроку - какой результата вы добились от нейросети? Что помогло вам улучшить ее точность?  \n",
    "   "
   ]
  },
  {
   "cell_type": "code",
   "execution_count": 1,
   "metadata": {},
   "outputs": [
    {
     "name": "stderr",
     "output_type": "stream",
     "text": [
      "Using TensorFlow backend.\n"
     ]
    }
   ],
   "source": [
    "# The full neural network code!\n",
    "###############################\n",
    "import numpy as np\n",
    "import mnist\n",
    "from keras.models import Sequential\n",
    "from keras.layers import Dense\n",
    "from keras.utils import to_categorical\n",
    "\n",
    "train_images = mnist.train_images()\n",
    "train_labels = mnist.train_labels()\n",
    "test_images = mnist.test_images()\n",
    "test_labels = mnist.test_labels()\n",
    "\n",
    "# Normalize the images.\n",
    "train_images = (train_images / 255) - 0.5\n",
    "test_images = (test_images / 255) - 0.5\n",
    "\n",
    "# Flatten the images.\n",
    "train_images = train_images.reshape((-1, 784))\n",
    "test_images = test_images.reshape((-1, 784))\n"
   ]
  },
  {
   "cell_type": "code",
   "execution_count": 2,
   "metadata": {},
   "outputs": [],
   "source": [
    "import matplotlib.pyplot as plt\n",
    "\n",
    "import warnings\n",
    "warnings.simplefilter(action='ignore', category=FutureWarning)"
   ]
  },
  {
   "cell_type": "code",
   "execution_count": 3,
   "metadata": {},
   "outputs": [],
   "source": [
    "def create_model(train_images, train_labels, test_images,test_labels,layers,list_keys,optimizer_par,loss_par,\n",
    "                 metrics_par,epochs_par,batch_size_par):\n",
    "    \n",
    "    # Build the model.        \n",
    "    model = Sequential()\n",
    "    \n",
    "    for i in list_keys:\n",
    "        if len(layers[i])==3:\n",
    "            model.add(Dense(layers[i][0], activation=layers[i][1], input_shape=(layers[i][2],)))\n",
    "        elif len(layers[i])==2:\n",
    "            model.add(Dense(layers[i][0], activation=layers[i][1]))\n",
    "        else:\n",
    "             raise Exception(\"layers shape exception\")\n",
    "            \n",
    "            \n",
    "     \n",
    "    # Compile the model.\n",
    "    model.compile(\n",
    "      optimizer=optimizer_par,\n",
    "      loss=loss_par,\n",
    "      metrics=metrics_par,\n",
    "    )\n",
    "\n",
    "    # Train the model.\n",
    "    hist=model.fit(\n",
    "      train_images,\n",
    "      to_categorical(train_labels),\n",
    "      epochs=epochs_par,\n",
    "      batch_size=batch_size_par,\n",
    "    )\n",
    "\n",
    "    # Evaluate the model.\n",
    "    model.evaluate(\n",
    "      test_images,\n",
    "      to_categorical(test_labels)\n",
    "    )\n",
    "\n",
    "    # Save the model to disk.\n",
    "    model.save_weights('model.h5')\n",
    "\n",
    "    # Load the model from disk later using:\n",
    "    # model.load_weights('model.h5')\n",
    "    \n",
    "    return model,hist"
   ]
  },
  {
   "cell_type": "code",
   "execution_count": 4,
   "metadata": {},
   "outputs": [],
   "source": [
    "#изменение количества внутренних слоев\n",
    "\n",
    "def accuracies_from_inner_layers_counts(inner_layers_counts):\n",
    "    accuracies=[]    \n",
    "    for i in inner_layers_counts:\n",
    "        layers = {1: [64,'relu',test_images.shape[1]]}\n",
    "        j=0\n",
    "        while j<i:  \n",
    "            layers[j+2]=[64,'relu']\n",
    "            j += 1\n",
    "        \n",
    "        layers[j+2]=[10,'softmax']\n",
    "            \n",
    "        list_keys = list(layers.keys())\n",
    "        list_keys.sort()\n",
    "        model,hist=create_model(train_images, train_labels, test_images,test_labels,layers,list_keys,\n",
    "                                optimizer_par='adam',loss_par='categorical_crossentropy',metrics_par=['accuracy'],\n",
    "                                epochs_par=5,batch_size_par=32)\n",
    "\n",
    "        # Predict on the first 5 test images.\n",
    "        predictions = model.predict(test_images[:5])\n",
    "    \n",
    "        accuracies.append(hist.history.get('accuracy')[-1])\n",
    "\n",
    "        # Print our model's predictions.\n",
    "        #print(np.argmax(predictions, axis=1)) # [7, 2, 1, 0, 4]\n",
    "\n",
    "        # Check our predictions against the ground truths.\n",
    "        #print(test_labels[:5]) # [7, 2, 1, 0, 4]\n",
    "        \n",
    "    return accuracies\n",
    "    \n",
    "\n",
    "\n"
   ]
  },
  {
   "cell_type": "code",
   "execution_count": 5,
   "metadata": {},
   "outputs": [
    {
     "name": "stdout",
     "output_type": "stream",
     "text": [
      "Epoch 1/5\n",
      "60000/60000 [==============================] - 2s 28us/step - loss: 0.3969 - accuracy: 0.8840\n",
      "Epoch 2/5\n",
      "60000/60000 [==============================] - 2s 26us/step - loss: 0.2884 - accuracy: 0.9161\n",
      "Epoch 3/5\n",
      "60000/60000 [==============================] - 2s 25us/step - loss: 0.2476 - accuracy: 0.9296\n",
      "Epoch 4/5\n",
      "60000/60000 [==============================] - 2s 26us/step - loss: 0.2152 - accuracy: 0.9380\n",
      "Epoch 5/5\n",
      "60000/60000 [==============================] - 2s 26us/step - loss: 0.1896 - accuracy: 0.9453\n",
      "10000/10000 [==============================] - 0s 15us/step\n",
      "Epoch 1/5\n",
      "60000/60000 [==============================] - 2s 28us/step - loss: 0.3777 - accuracy: 0.8878\n",
      "Epoch 2/5\n",
      "60000/60000 [==============================] - 2s 27us/step - loss: 0.2419 - accuracy: 0.9279\n",
      "Epoch 3/5\n",
      "60000/60000 [==============================] - 2s 27us/step - loss: 0.1984 - accuracy: 0.9426\n",
      "Epoch 4/5\n",
      "60000/60000 [==============================] - 2s 27us/step - loss: 0.1711 - accuracy: 0.9496\n",
      "Epoch 5/5\n",
      "60000/60000 [==============================] - 2s 27us/step - loss: 0.1506 - accuracy: 0.9546\n",
      "10000/10000 [==============================] - 0s 17us/step\n",
      "Epoch 1/5\n",
      "60000/60000 [==============================] - 2s 30us/step - loss: 0.3492 - accuracy: 0.8928\n",
      "Epoch 2/5\n",
      "60000/60000 [==============================] - 2s 36us/step - loss: 0.2021 - accuracy: 0.9388\n",
      "Epoch 3/5\n",
      "60000/60000 [==============================] - 2s 35us/step - loss: 0.1609 - accuracy: 0.9515\n",
      "Epoch 4/5\n",
      "60000/60000 [==============================] - 2s 35us/step - loss: 0.1368 - accuracy: 0.9590\n",
      "Epoch 5/5\n",
      "60000/60000 [==============================] - 3s 46us/step - loss: 0.1201 - accuracy: 0.9637\n",
      "10000/10000 [==============================] - 0s 28us/step\n",
      "Epoch 1/5\n",
      "60000/60000 [==============================] - 2s 31us/step - loss: 0.3590 - accuracy: 0.8882\n",
      "Epoch 2/5\n",
      "60000/60000 [==============================] - 2s 40us/step - loss: 0.2016 - accuracy: 0.9376\n",
      "Epoch 3/5\n",
      "60000/60000 [==============================] - 3s 43us/step - loss: 0.1608 - accuracy: 0.9501\n",
      "Epoch 4/5\n",
      "60000/60000 [==============================] - 3s 42us/step - loss: 0.1358 - accuracy: 0.9570\n",
      "Epoch 5/5\n",
      "60000/60000 [==============================] - 3s 46us/step - loss: 0.1209 - accuracy: 0.9625\n",
      "10000/10000 [==============================] - 0s 18us/step\n",
      "Epoch 1/5\n",
      "60000/60000 [==============================] - 2s 32us/step - loss: 0.3814 - accuracy: 0.8783\n",
      "Epoch 2/5\n",
      "60000/60000 [==============================] - 2s 32us/step - loss: 0.2139 - accuracy: 0.9342\n",
      "Epoch 3/5\n",
      "60000/60000 [==============================] - 2s 32us/step - loss: 0.1750 - accuracy: 0.9456\n",
      "Epoch 4/5\n",
      "60000/60000 [==============================] - 2s 32us/step - loss: 0.1507 - accuracy: 0.9529\n",
      "Epoch 5/5\n",
      "60000/60000 [==============================] - 2s 41us/step - loss: 0.1343 - accuracy: 0.9579\n",
      "10000/10000 [==============================] - 0s 17us/step\n",
      "Epoch 1/5\n",
      "60000/60000 [==============================] - 2s 34us/step - loss: 0.3767 - accuracy: 0.8788\n",
      "Epoch 2/5\n",
      "60000/60000 [==============================] - 2s 33us/step - loss: 0.1992 - accuracy: 0.9395\n",
      "Epoch 3/5\n",
      "60000/60000 [==============================] - 2s 33us/step - loss: 0.1594 - accuracy: 0.9514\n",
      "Epoch 4/5\n",
      "60000/60000 [==============================] - 2s 33us/step - loss: 0.1357 - accuracy: 0.9575\n",
      "Epoch 5/5\n",
      "60000/60000 [==============================] - 2s 33us/step - loss: 0.1206 - accuracy: 0.9631\n",
      "10000/10000 [==============================] - 0s 19us/step\n",
      "Epoch 1/5\n",
      "60000/60000 [==============================] - 2s 36us/step - loss: 0.3834 - accuracy: 0.8770\n",
      "Epoch 2/5\n",
      "60000/60000 [==============================] - 2s 35us/step - loss: 0.2104 - accuracy: 0.9358\n",
      "Epoch 3/5\n",
      "60000/60000 [==============================] - 2s 35us/step - loss: 0.1687 - accuracy: 0.9484\n",
      "Epoch 4/5\n",
      "60000/60000 [==============================] - 2s 35us/step - loss: 0.1450 - accuracy: 0.9545\n",
      "Epoch 5/5\n",
      "60000/60000 [==============================] - 2s 36us/step - loss: 0.1257 - accuracy: 0.9606\n",
      "10000/10000 [==============================] - 0s 19us/step\n",
      "Epoch 1/5\n",
      "60000/60000 [==============================] - 2s 38us/step - loss: 0.4377 - accuracy: 0.8604\n",
      "Epoch 2/5\n",
      "60000/60000 [==============================] - 2s 37us/step - loss: 0.2209 - accuracy: 0.9326\n",
      "Epoch 3/5\n",
      "60000/60000 [==============================] - 2s 37us/step - loss: 0.1762 - accuracy: 0.9463\n",
      "Epoch 4/5\n",
      "60000/60000 [==============================] - 2s 37us/step - loss: 0.1503 - accuracy: 0.9538\n",
      "Epoch 5/5\n",
      "60000/60000 [==============================] - 2s 37us/step - loss: 0.1332 - accuracy: 0.9592\n",
      "10000/10000 [==============================] - 0s 20us/step\n",
      "Epoch 1/5\n",
      "60000/60000 [==============================] - 2s 39us/step - loss: 0.4225 - accuracy: 0.8633\n",
      "Epoch 2/5\n",
      "60000/60000 [==============================] - 2s 37us/step - loss: 0.2086 - accuracy: 0.9362\n",
      "Epoch 3/5\n",
      "60000/60000 [==============================] - 2s 37us/step - loss: 0.1642 - accuracy: 0.9495\n",
      "Epoch 4/5\n",
      "60000/60000 [==============================] - 2s 37us/step - loss: 0.1365 - accuracy: 0.9590\n",
      "Epoch 5/5\n",
      "60000/60000 [==============================] - 2s 37us/step - loss: 0.1190 - accuracy: 0.9639\n",
      "10000/10000 [==============================] - 0s 20us/step\n",
      "Epoch 1/5\n",
      "60000/60000 [==============================] - 2s 40us/step - loss: 0.4497 - accuracy: 0.8541\n",
      "Epoch 2/5\n",
      "60000/60000 [==============================] - 2s 40us/step - loss: 0.2080 - accuracy: 0.9372\n",
      "Epoch 3/5\n",
      "60000/60000 [==============================] - 2s 40us/step - loss: 0.1657 - accuracy: 0.9500\n",
      "Epoch 4/5\n",
      "60000/60000 [==============================] - 2s 40us/step - loss: 0.1430 - accuracy: 0.9560\n",
      "Epoch 5/5\n",
      "60000/60000 [==============================] - 2s 40us/step - loss: 0.1265 - accuracy: 0.9615\n",
      "10000/10000 [==============================] - 0s 21us/step\n",
      "Epoch 1/5\n",
      "60000/60000 [==============================] - 3s 43us/step - loss: 0.4756 - accuracy: 0.8449\n",
      "Epoch 2/5\n",
      "60000/60000 [==============================] - 2s 41us/step - loss: 0.2204 - accuracy: 0.9349\n",
      "Epoch 3/5\n",
      "60000/60000 [==============================] - 2s 41us/step - loss: 0.1748 - accuracy: 0.9480\n",
      "Epoch 4/5\n",
      "60000/60000 [==============================] - 2s 41us/step - loss: 0.1518 - accuracy: 0.9545\n",
      "Epoch 5/5\n",
      "60000/60000 [==============================] - 2s 41us/step - loss: 0.1345 - accuracy: 0.9596\n",
      "10000/10000 [==============================] - 0s 21us/step\n",
      "Epoch 1/5\n",
      "60000/60000 [==============================] - 3s 45us/step - loss: 0.5625 - accuracy: 0.8136\n",
      "Epoch 2/5\n",
      "60000/60000 [==============================] - 3s 43us/step - loss: 0.2506 - accuracy: 0.9274\n",
      "Epoch 3/5\n",
      "60000/60000 [==============================] - 3s 43us/step - loss: 0.1969 - accuracy: 0.9436\n",
      "Epoch 4/5\n",
      "60000/60000 [==============================] - 3s 43us/step - loss: 0.1692 - accuracy: 0.9501\n",
      "Epoch 5/5\n",
      "60000/60000 [==============================] - 3s 43us/step - loss: 0.1490 - accuracy: 0.9568\n",
      "10000/10000 [==============================] - 0s 21us/step\n",
      "[0.94533336, 0.95455, 0.9637167, 0.9625, 0.95795, 0.96305, 0.9606, 0.95923334, 0.96393335, 0.96146667, 0.95963335, 0.95683336]\n"
     ]
    }
   ],
   "source": [
    "inner_layers_counts=[0,1,2,3,4,5,6,7,8,9,10,11]\n",
    "accuracies=accuracies_from_inner_layers_counts(inner_layers_counts)\n",
    "print(accuracies)\n"
   ]
  },
  {
   "cell_type": "code",
   "execution_count": 6,
   "metadata": {},
   "outputs": [
    {
     "data": {
      "image/png": "[encoded data removed]",
      "text/plain": [
       "<Figure size 432x288 with 1 Axes>"
      ]
     },
     "metadata": {
      "needs_background": "light"
     },
     "output_type": "display_data"
    }
   ],
   "source": [
    "inner_layers_counts=[0+1,1+1,2+1,3+1,4+1,5+1,6+1,7+1,8+1,9+1,10+1,11+1]\n",
    "plt.plot(inner_layers_counts,accuracies)\n",
    "plt.title(\"изменение количества внутренних слоев\")\n",
    "plt.xlabel('Количество внутренних слоев')\n",
    "plt.ylabel('Точность %')\n",
    "plt.show()"
   ]
  },
  {
   "cell_type": "markdown",
   "metadata": {},
   "source": [
    "**Вывод: при увеличении количества внутренних слоев от 1 до 3 точность увеличивается, затем немного уменьшается и далее увеличивается при увеличении количества внутренних слоев от 5 до 6 и далее уменьшается вероятно из-за насыщения.\n",
    "Т.о. здесь наилучшее число слоев=6**"
   ]
  },
  {
   "cell_type": "code",
   "execution_count": 7,
   "metadata": {},
   "outputs": [],
   "source": [
    "#изменение количества нейронов слоев\n",
    "def accuracies_from_neuron_counts(inner_neuron_counts):\n",
    "    accuracies=[]    \n",
    "    for i in inner_neuron_counts:\n",
    "        layers = {1: [i,'relu',test_images.shape[1]],2: [i,'relu'],3: [i,'relu'],4: [i,'relu'],\n",
    "                  5: [i,'relu'],6: [i,'relu'],7:[10,'softmax']}\n",
    "        \n",
    "                            \n",
    "        list_keys = list(layers.keys())\n",
    "        list_keys.sort()\n",
    "        model,hist=create_model(train_images, train_labels, test_images,test_labels,layers,list_keys,\n",
    "                                optimizer_par='adam',loss_par='categorical_crossentropy',metrics_par=['accuracy'],\n",
    "                                epochs_par=5,batch_size_par=32)\n",
    "\n",
    "        # Predict on the first 5 test images.\n",
    "        predictions = model.predict(test_images[:5])\n",
    "    \n",
    "        accuracies.append(hist.history.get('accuracy')[-1])\n",
    "\n",
    "        # Print our model's predictions.\n",
    "        #print(np.argmax(predictions, axis=1)) # [7, 2, 1, 0, 4]\n",
    "\n",
    "        # Check our predictions against the ground truths.\n",
    "        #print(test_labels[:5]) # [7, 2, 1, 0, 4]\n",
    "        \n",
    "    return accuracies\n"
   ]
  },
  {
   "cell_type": "code",
   "execution_count": 8,
   "metadata": {},
   "outputs": [
    {
     "name": "stdout",
     "output_type": "stream",
     "text": [
      "Epoch 1/5\n",
      "60000/60000 [==============================] - 2s 36us/step - loss: 0.3684 - accuracy: 0.8829\n",
      "Epoch 2/5\n",
      "60000/60000 [==============================] - 2s 35us/step - loss: 0.1929 - accuracy: 0.9398\n",
      "Epoch 3/5\n",
      "60000/60000 [==============================] - 2s 35us/step - loss: 0.1559 - accuracy: 0.9514\n",
      "Epoch 4/5\n",
      "60000/60000 [==============================] - 2s 35us/step - loss: 0.1338 - accuracy: 0.9579\n",
      "Epoch 5/5\n",
      "60000/60000 [==============================] - 2s 35us/step - loss: 0.1196 - accuracy: 0.9626\n",
      "10000/10000 [==============================] - 0s 25us/step\n",
      "Epoch 1/5\n",
      "60000/60000 [==============================] - 3s 48us/step - loss: 0.3130 - accuracy: 0.9011\n",
      "Epoch 2/5\n",
      "60000/60000 [==============================] - 3s 47us/step - loss: 0.1585 - accuracy: 0.9513\n",
      "Epoch 3/5\n",
      "60000/60000 [==============================] - 3s 47us/step - loss: 0.1262 - accuracy: 0.9610\n",
      "Epoch 4/5\n",
      "60000/60000 [==============================] - 3s 46us/step - loss: 0.1062 - accuracy: 0.9674\n",
      "Epoch 5/5\n",
      "60000/60000 [==============================] - 3s 46us/step - loss: 0.0901 - accuracy: 0.9714\n",
      "10000/10000 [==============================] - 0s 21us/step\n",
      "Epoch 1/5\n",
      "60000/60000 [==============================] - 11s 176us/step - loss: 0.2844 - accuracy: 0.9119\n",
      "Epoch 2/5\n",
      "60000/60000 [==============================] - 11s 176us/step - loss: 0.1342 - accuracy: 0.9598\n",
      "Epoch 3/5\n",
      "60000/60000 [==============================] - 11s 187us/step - loss: 0.1016 - accuracy: 0.9694\n",
      "Epoch 4/5\n",
      "60000/60000 [==============================] - 12s 207us/step - loss: 0.0839 - accuracy: 0.9753\n",
      "Epoch 5/5\n",
      "60000/60000 [==============================] - 13s 211us/step - loss: 0.0721 - accuracy: 0.9779\n",
      "10000/10000 [==============================] - 0s 47us/step\n",
      "Epoch 1/5\n",
      "60000/60000 [==============================] - 49s 817us/step - loss: 0.3254 - accuracy: 0.9003\n",
      "Epoch 2/5\n",
      "60000/60000 [==============================] - 51s 844us/step - loss: 0.1394 - accuracy: 0.9586\n",
      "Epoch 3/5\n",
      "60000/60000 [==============================] - 50s 835us/step - loss: 0.1081 - accuracy: 0.9690\n",
      "Epoch 4/5\n",
      "60000/60000 [==============================] - 49s 823us/step - loss: 0.0906 - accuracy: 0.9737\n",
      "Epoch 5/5\n",
      "60000/60000 [==============================] - 50s 833us/step - loss: 0.0736 - accuracy: 0.9785s - loss: 0.0738 - accuracy: \n",
      "10000/10000 [==============================] - 2s 238us/step\n",
      "[0.9625667, 0.97143334, 0.97793335, 0.9784667]\n"
     ]
    }
   ],
   "source": [
    "neuron_counts=[64,128,512,1024]\n",
    "accuracies=accuracies_from_neuron_counts(neuron_counts)\n",
    "print(accuracies)"
   ]
  },
  {
   "cell_type": "code",
   "execution_count": 9,
   "metadata": {},
   "outputs": [
    {
     "data": {
      "image/png": "[encoded data removed]",
      "text/plain": [
       "<Figure size 432x288 with 1 Axes>"
      ]
     },
     "metadata": {
      "needs_background": "light"
     },
     "output_type": "display_data"
    }
   ],
   "source": [
    "plt.plot(neuron_counts,accuracies)\n",
    "plt.title(\"изменение количества нейронов слоев\")\n",
    "plt.xlabel('Количество нейронов слоев')\n",
    "plt.ylabel('Точность %')\n",
    "plt.show()"
   ]
  },
  {
   "cell_type": "markdown",
   "metadata": {},
   "source": [
    "**Вывод: при увеличении количества нейронов в слоях сети от 64 до 512 точность увеличивается, затем немного уменьшается и остается примерно постоянной при увеличении нейронов в слоях сети от 512 и более немного уменьшаясь из-за насыщения.\n",
    "Т.о. здесь наилучшее число нейронов=512**"
   ]
  },
  {
   "cell_type": "code",
   "execution_count": 10,
   "metadata": {},
   "outputs": [],
   "source": [
    "#изменяем optimizer - позволяет задать алгоритм, который будет осуществлять изменения весов по всей нейронной сети (backpropagation)\n",
    "\n",
    "def accuracies_from_optimizers(optimizers):\n",
    "    accuracies=[] \n",
    "    layers = {1: [512,'relu',test_images.shape[1]],2: [512,'relu'],3: [512,'relu'],4: [512,'relu'],\n",
    "                  5: [512,'relu'],6: [512,'relu'],7:[10,'softmax']}\n",
    "    for optimizer in optimizers:\n",
    "        list_keys = list(layers.keys())\n",
    "        list_keys.sort()\n",
    "        model,hist=create_model(train_images, train_labels, test_images,test_labels,layers,list_keys,\n",
    "                                optimizer_par=optimizer,loss_par='categorical_crossentropy',metrics_par=['accuracy'],\n",
    "                                epochs_par=5,batch_size_par=32)\n",
    "\n",
    "        # Predict on the first 5 test images.\n",
    "        predictions = model.predict(test_images[:5])\n",
    "    \n",
    "        accuracies.append(hist.history.get('accuracy')[-1])\n",
    "\n",
    "        # Print our model's predictions.\n",
    "        #print(np.argmax(predictions, axis=1)) # [7, 2, 1, 0, 4]\n",
    "\n",
    "        # Check our predictions against the ground truths.\n",
    "        #print(test_labels[:5]) # [7, 2, 1, 0, 4]\n",
    "        \n",
    "    return accuracies\n",
    "\n",
    "    "
   ]
  },
  {
   "cell_type": "code",
   "execution_count": 11,
   "metadata": {},
   "outputs": [
    {
     "name": "stdout",
     "output_type": "stream",
     "text": [
      "Epoch 1/5\n",
      "60000/60000 [==============================] - 11s 176us/step - loss: 0.6141 - accuracy: 0.8154\n",
      "Epoch 2/5\n",
      "60000/60000 [==============================] - 10s 171us/step - loss: 0.2228 - accuracy: 0.9330\n",
      "Epoch 3/5\n",
      "60000/60000 [==============================] - 11s 179us/step - loss: 0.1604 - accuracy: 0.9503\n",
      "Epoch 4/5\n",
      "60000/60000 [==============================] - 11s 181us/step - loss: 0.1262 - accuracy: 0.9613\n",
      "Epoch 5/5\n",
      "60000/60000 [==============================] - 11s 182us/step - loss: 0.1030 - accuracy: 0.9682\n",
      "10000/10000 [==============================] - 0s 48us/step\n",
      "Epoch 1/5\n",
      "60000/60000 [==============================] - 10s 172us/step - loss: nan - accuracy: 0.0988\n",
      "Epoch 2/5\n",
      "60000/60000 [==============================] - 11s 184us/step - loss: nan - accuracy: 0.0987\n",
      "Epoch 3/5\n",
      "60000/60000 [==============================] - 10s 173us/step - loss: nan - accuracy: 0.0987\n",
      "Epoch 4/5\n",
      "60000/60000 [==============================] - 10s 175us/step - loss: nan - accuracy: 0.0987\n",
      "Epoch 5/5\n",
      "60000/60000 [==============================] - 11s 184us/step - loss: nan - accuracy: 0.0987\n",
      "10000/10000 [==============================] - 0s 47us/step\n",
      "Epoch 1/5\n",
      "60000/60000 [==============================] - 12s 201us/step - loss: 0.2989 - accuracy: 0.9073\n",
      "Epoch 2/5\n",
      "60000/60000 [==============================] - 12s 199us/step - loss: 0.1337 - accuracy: 0.9604\n",
      "Epoch 3/5\n",
      "60000/60000 [==============================] - 12s 196us/step - loss: 0.0993 - accuracy: 0.9700\n",
      "Epoch 4/5\n",
      "60000/60000 [==============================] - 12s 201us/step - loss: 0.0830 - accuracy: 0.9747\n",
      "Epoch 5/5\n",
      "60000/60000 [==============================] - 12s 206us/step - loss: 0.0726 - accuracy: 0.9782\n",
      "10000/10000 [==============================] - 1s 72us/step\n",
      "Epoch 1/5\n",
      "60000/60000 [==============================] - 14s 226us/step - loss: 2.2228 - accuracy: 0.3194\n",
      "Epoch 2/5\n",
      "60000/60000 [==============================] - 13s 225us/step - loss: 1.9002 - accuracy: 0.5728\n",
      "Epoch 3/5\n",
      "60000/60000 [==============================] - 14s 230us/step - loss: 1.3646 - accuracy: 0.7079\n",
      "Epoch 4/5\n",
      "60000/60000 [==============================] - 13s 221us/step - loss: 0.9555 - accuracy: 0.7859\n",
      "Epoch 5/5\n",
      "60000/60000 [==============================] - 13s 223us/step - loss: 0.7314 - accuracy: 0.8219\n",
      "10000/10000 [==============================] - 0s 48us/step\n",
      "Epoch 1/5\n",
      "60000/60000 [==============================] - 12s 199us/step - loss: 0.2941 - accuracy: 0.9074\n",
      "Epoch 2/5\n",
      "60000/60000 [==============================] - 12s 200us/step - loss: 0.1481 - accuracy: 0.9546\n",
      "Epoch 3/5\n",
      "60000/60000 [==============================] - 12s 204us/step - loss: 0.1144 - accuracy: 0.9652\n",
      "Epoch 4/5\n",
      "60000/60000 [==============================] - 13s 211us/step - loss: 0.0958 - accuracy: 0.9712s - los\n",
      "Epoch 5/5\n",
      "60000/60000 [==============================] - 12s 204us/step - loss: 0.0826 - accuracy: 0.9753\n",
      "10000/10000 [==============================] - 1s 53us/step\n",
      "Epoch 1/5\n",
      "60000/60000 [==============================] - 13s 218us/step - loss: 0.4106 - accuracy: 0.8809\n",
      "Epoch 2/5\n",
      "60000/60000 [==============================] - 13s 221us/step - loss: 0.2034 - accuracy: 0.9437\n",
      "Epoch 3/5\n",
      "60000/60000 [==============================] - 13s 218us/step - loss: 0.1572 - accuracy: 0.9576\n",
      "Epoch 4/5\n",
      "60000/60000 [==============================] - 13s 218us/step - loss: 0.1272 - accuracy: 0.9647\n",
      "Epoch 5/5\n",
      "60000/60000 [==============================] - 13s 218us/step - loss: 0.1066 - accuracy: 0.9704\n",
      "10000/10000 [==============================] - 1s 50us/step\n",
      "Epoch 1/5\n",
      "60000/60000 [==============================] - 11s 185us/step - loss: nan - accuracy: 0.0987\n",
      "Epoch 2/5\n",
      "60000/60000 [==============================] - 11s 189us/step - loss: nan - accuracy: 0.0987\n",
      "Epoch 3/5\n",
      "60000/60000 [==============================] - 12s 200us/step - loss: nan - accuracy: 0.0987\n",
      "Epoch 4/5\n",
      "60000/60000 [==============================] - 12s 192us/step - loss: nan - accuracy: 0.0987\n",
      "Epoch 5/5\n",
      "60000/60000 [==============================] - 12s 192us/step - loss: nan - accuracy: 0.0987\n",
      "10000/10000 [==============================] - 0s 50us/step\n",
      "Epoch 1/5\n",
      "60000/60000 [==============================] - 15s 253us/step - loss: 2.3024 - accuracy: 0.1120\n",
      "Epoch 2/5\n",
      "60000/60000 [==============================] - 15s 245us/step - loss: 2.3022 - accuracy: 0.1124s - loss: 2.3022 - accuracy: \n",
      "Epoch 3/5\n",
      "60000/60000 [==============================] - 15s 255us/step - loss: 2.3021 - accuracy: 0.1124\n",
      "Epoch 4/5\n",
      "60000/60000 [==============================] - 16s 269us/step - loss: 2.3020 - accuracy: 0.1124\n",
      "Epoch 5/5\n",
      "60000/60000 [==============================] - 16s 259us/step - loss: 2.3019 - accuracy: 0.1124\n",
      "10000/10000 [==============================] - 1s 79us/step\n",
      "[0.96821666, 0.09871667, 0.97821665, 0.8218667, 0.9753, 0.97041667, 0.09871667, 0.11236667]\n"
     ]
    }
   ],
   "source": [
    "optimizers=['SGD','rmsprop','adam','adadelta','adagrad','adamax','nadam','ftrl']\n",
    "accuracies=accuracies_from_optimizers(optimizers)\n",
    "print(accuracies)"
   ]
  },
  {
   "cell_type": "code",
   "execution_count": 12,
   "metadata": {},
   "outputs": [
    {
     "data": {
      "image/png": "[encoded data removed]",
      "text/plain": [
       "<Figure size 432x288 with 1 Axes>"
      ]
     },
     "metadata": {
      "needs_background": "light"
     },
     "output_type": "display_data"
    }
   ],
   "source": [
    "plt.plot(optimizers,accuracies)\n",
    "plt.title(\"изменение optimizer\")\n",
    "plt.xlabel('Optimizers')\n",
    "plt.ylabel('Точность %')\n",
    "plt.show()"
   ]
  },
  {
   "cell_type": "markdown",
   "metadata": {},
   "source": [
    "**Вывод: Наибольшее значение точности - для optimizer='SGD','adam','adagrad','adamax'**"
   ]
  },
  {
   "cell_type": "code",
   "execution_count": 13,
   "metadata": {},
   "outputs": [],
   "source": [
    "#изменяем количество эпох - итераций обучения\n",
    "def accuracies_from_epochs(epochs):\n",
    "    accuracies=[] \n",
    "    layers = {1: [512,'relu',test_images.shape[1]],2: [512,'relu'],3: [512,'relu'],4: [512,'relu'],\n",
    "                  5: [512,'relu'],6: [512,'relu'],7:[10,'softmax']}\n",
    "    for epoch in epochs:\n",
    "        list_keys = list(layers.keys())\n",
    "        list_keys.sort()\n",
    "        model,hist=create_model(train_images, train_labels, test_images,test_labels,layers,list_keys,\n",
    "                                optimizer_par='adam',loss_par='categorical_crossentropy',metrics_par=['accuracy'],\n",
    "                                epochs_par=epoch,batch_size_par=32)\n",
    "\n",
    "        # Predict on the first 5 test images.\n",
    "        predictions = model.predict(test_images[:5])\n",
    "    \n",
    "        accuracies.append(hist.history.get('accuracy')[-1])\n",
    "\n",
    "        # Print our model's predictions.\n",
    "        #print(np.argmax(predictions, axis=1)) # [7, 2, 1, 0, 4]\n",
    "\n",
    "        # Check our predictions against the ground truths.\n",
    "        #print(test_labels[:5]) # [7, 2, 1, 0, 4]\n",
    "        \n",
    "    return accuracies\n",
    "\n"
   ]
  },
  {
   "cell_type": "code",
   "execution_count": 14,
   "metadata": {},
   "outputs": [
    {
     "name": "stdout",
     "output_type": "stream",
     "text": [
      "Epoch 1/3\n",
      "60000/60000 [==============================] - 12s 208us/step - loss: 0.2836 - accuracy: 0.9116\n",
      "Epoch 2/3\n",
      "60000/60000 [==============================] - 13s 210us/step - loss: 0.1332 - accuracy: 0.9598\n",
      "Epoch 3/3\n",
      "60000/60000 [==============================] - 12s 202us/step - loss: 0.1027 - accuracy: 0.9692\n",
      "10000/10000 [==============================] - 1s 57us/step\n",
      "Epoch 1/5\n",
      "60000/60000 [==============================] - 12s 206us/step - loss: 0.2859 - accuracy: 0.9119\n",
      "Epoch 2/5\n",
      "60000/60000 [==============================] - 12s 198us/step - loss: 0.1333 - accuracy: 0.9599\n",
      "Epoch 3/5\n",
      "60000/60000 [==============================] - 12s 208us/step - loss: 0.1018 - accuracy: 0.9689\n",
      "Epoch 4/5\n",
      "60000/60000 [==============================] - 13s 214us/step - loss: 0.0837 - accuracy: 0.9744\n",
      "Epoch 5/5\n",
      "60000/60000 [==============================] - 13s 220us/step - loss: 0.0723 - accuracy: 0.9781\n",
      "10000/10000 [==============================] - 1s 73us/step\n",
      "Epoch 1/7\n",
      "60000/60000 [==============================] - 13s 214us/step - loss: 0.2898 - accuracy: 0.9107\n",
      "Epoch 2/7\n",
      "60000/60000 [==============================] - 12s 207us/step - loss: 0.1371 - accuracy: 0.9599\n",
      "Epoch 3/7\n",
      "60000/60000 [==============================] - 12s 208us/step - loss: 0.1042 - accuracy: 0.9690\n",
      "Epoch 4/7\n",
      "60000/60000 [==============================] - 13s 210us/step - loss: 0.0854 - accuracy: 0.9746\n",
      "Epoch 5/7\n",
      "60000/60000 [==============================] - 13s 213us/step - loss: 0.0737 - accuracy: 0.9779\n",
      "Epoch 6/7\n",
      "60000/60000 [==============================] - 13s 211us/step - loss: 0.0623 - accuracy: 0.9808\n",
      "Epoch 7/7\n",
      "60000/60000 [==============================] - 13s 213us/step - loss: 0.0550 - accuracy: 0.9830\n",
      "10000/10000 [==============================] - 1s 73us/step\n",
      "Epoch 1/9\n",
      "60000/60000 [==============================] - 13s 212us/step - loss: 0.2880 - accuracy: 0.9111\n",
      "Epoch 2/9\n",
      "60000/60000 [==============================] - 13s 211us/step - loss: 0.1341 - accuracy: 0.9594\n",
      "Epoch 3/9\n",
      "60000/60000 [==============================] - 13s 214us/step - loss: 0.1029 - accuracy: 0.9689\n",
      "Epoch 4/9\n",
      "60000/60000 [==============================] - 13s 213us/step - loss: 0.0856 - accuracy: 0.9739\n",
      "Epoch 5/9\n",
      "60000/60000 [==============================] - 13s 213us/step - loss: 0.0712 - accuracy: 0.9788\n",
      "Epoch 6/9\n",
      "60000/60000 [==============================] - 13s 212us/step - loss: 0.0624 - accuracy: 0.9805\n",
      "Epoch 7/9\n",
      "60000/60000 [==============================] - 13s 210us/step - loss: 0.0544 - accuracy: 0.9830\n",
      "Epoch 8/9\n",
      "60000/60000 [==============================] - 13s 217us/step - loss: 0.0495 - accuracy: 0.9850\n",
      "Epoch 9/9\n",
      "60000/60000 [==============================] - 13s 210us/step - loss: 0.0445 - accuracy: 0.9862\n",
      "10000/10000 [==============================] - 1s 53us/step\n",
      "Epoch 1/12\n",
      "60000/60000 [==============================] - 13s 212us/step - loss: 0.2870 - accuracy: 0.9123\n",
      "Epoch 2/12\n",
      "60000/60000 [==============================] - 13s 212us/step - loss: 0.1331 - accuracy: 0.9595\n",
      "Epoch 3/12\n",
      "60000/60000 [==============================] - 14s 230us/step - loss: 0.1044 - accuracy: 0.9679\n",
      "Epoch 4/12\n",
      "60000/60000 [==============================] - 14s 235us/step - loss: 0.0847 - accuracy: 0.9746\n",
      "Epoch 5/12\n",
      "60000/60000 [==============================] - 14s 237us/step - loss: 0.0711 - accuracy: 0.9777\n",
      "Epoch 6/12\n",
      "60000/60000 [==============================] - 14s 233us/step - loss: 0.0630 - accuracy: 0.9807\n",
      "Epoch 7/12\n",
      "60000/60000 [==============================] - 13s 217us/step - loss: 0.0544 - accuracy: 0.9823\n",
      "Epoch 8/12\n",
      "60000/60000 [==============================] - 13s 214us/step - loss: 0.0493 - accuracy: 0.9844\n",
      "Epoch 9/12\n",
      "60000/60000 [==============================] - 13s 220us/step - loss: 0.0456 - accuracy: 0.9858\n",
      "Epoch 10/12\n",
      "60000/60000 [==============================] - 13s 221us/step - loss: 0.0380 - accuracy: 0.9884\n",
      "Epoch 11/12\n",
      "60000/60000 [==============================] - 13s 215us/step - loss: 0.0385 - accuracy: 0.9875\n",
      "Epoch 12/12\n",
      "60000/60000 [==============================] - 13s 214us/step - loss: 0.0357 - accuracy: 0.9883\n",
      "10000/10000 [==============================] - 1s 98us/step\n",
      "[0.9691667, 0.9781167, 0.983, 0.98623335, 0.98825]\n"
     ]
    }
   ],
   "source": [
    "epochs=[3,5,7,9,12]\n",
    "accuracies=accuracies_from_epochs(epochs)\n",
    "print(accuracies)"
   ]
  },
  {
   "cell_type": "code",
   "execution_count": 15,
   "metadata": {},
   "outputs": [
    {
     "data": {
      "image/png": "[encoded data removed]",
      "text/plain": [
       "<Figure size 432x288 with 1 Axes>"
      ]
     },
     "metadata": {
      "needs_background": "light"
     },
     "output_type": "display_data"
    }
   ],
   "source": [
    "plt.plot(epochs,accuracies)\n",
    "plt.title(\"изменение epochs\")\n",
    "plt.xlabel('Epochs')\n",
    "plt.ylabel('Точность %')\n",
    "plt.show()"
   ]
  },
  {
   "cell_type": "markdown",
   "metadata": {},
   "source": [
    "**Вывод: C увеличением количества эпох (определяет сколько раз через нейросеть должен пройти весь набор данных) увеличивается точность**"
   ]
  },
  {
   "cell_type": "code",
   "execution_count": 16,
   "metadata": {},
   "outputs": [],
   "source": [
    "#изменяем bath_size - определяет количество обучающих примеров передающихся нейросети на каждой итерации обучения\n",
    "def accuracies_from_bath_sizes(bath_sizes):\n",
    "    accuracies=[] \n",
    "    layers = {1: [512,'relu',test_images.shape[1]],2: [512,'relu'],3: [512,'relu'],4: [512,'relu'],\n",
    "                  5: [512,'relu'],6: [512,'relu'],7:[10,'softmax']}\n",
    "    for bath_size in bath_sizes:\n",
    "        list_keys = list(layers.keys())\n",
    "        list_keys.sort()\n",
    "        model,hist=create_model(train_images, train_labels, test_images,test_labels,layers,list_keys,\n",
    "                                optimizer_par='adam',loss_par='categorical_crossentropy',metrics_par=['accuracy'],\n",
    "                                epochs_par=12,batch_size_par=bath_size)\n",
    "\n",
    "        # Predict on the first 5 test images.\n",
    "        predictions = model.predict(test_images[:5])\n",
    "    \n",
    "        accuracies.append(hist.history.get('accuracy')[-1])\n",
    "\n",
    "        # Print our model's predictions.\n",
    "        #print(np.argmax(predictions, axis=1)) # [7, 2, 1, 0, 4]\n",
    "\n",
    "        # Check our predictions against the ground truths.\n",
    "        #print(test_labels[:5]) # [7, 2, 1, 0, 4]\n",
    "        \n",
    "    return accuracies\n",
    "\n"
   ]
  },
  {
   "cell_type": "code",
   "execution_count": 17,
   "metadata": {},
   "outputs": [
    {
     "name": "stdout",
     "output_type": "stream",
     "text": [
      "Epoch 1/12\n",
      "60000/60000 [==============================] - 22s 361us/step - loss: 0.3096 - accuracy: 0.9041\n",
      "Epoch 2/12\n",
      "60000/60000 [==============================] - 22s 369us/step - loss: 0.1465 - accuracy: 0.9566\n",
      "Epoch 3/12\n",
      "60000/60000 [==============================] - 23s 380us/step - loss: 0.1162 - accuracy: 0.9655\n",
      "Epoch 4/12\n",
      "60000/60000 [==============================] - 22s 371us/step - loss: 0.0956 - accuracy: 0.9719\n",
      "Epoch 5/12\n",
      "60000/60000 [==============================] - 23s 378us/step - loss: 0.0817 - accuracy: 0.9762\n",
      "Epoch 6/12\n",
      "60000/60000 [==============================] - 23s 378us/step - loss: 0.0745 - accuracy: 0.9780\n",
      "Epoch 7/12\n",
      "60000/60000 [==============================] - 23s 382us/step - loss: 0.0641 - accuracy: 0.9807\n",
      "Epoch 8/12\n",
      "60000/60000 [==============================] - 22s 364us/step - loss: 0.0584 - accuracy: 0.9825\n",
      "Epoch 9/12\n",
      "60000/60000 [==============================] - 22s 373us/step - loss: 0.0543 - accuracy: 0.9839\n",
      "Epoch 10/12\n",
      "60000/60000 [==============================] - 22s 374us/step - loss: 0.0484 - accuracy: 0.9855\n",
      "Epoch 11/12\n",
      "60000/60000 [==============================] - 23s 380us/step - loss: 0.0461 - accuracy: 0.9860\n",
      "Epoch 12/12\n",
      "60000/60000 [==============================] - 23s 383us/step - loss: 0.0430 - accuracy: 0.9869\n",
      "10000/10000 [==============================] - 1s 50us/step\n",
      "Epoch 1/12\n",
      "60000/60000 [==============================] - 13s 216us/step - loss: 0.2902 - accuracy: 0.9102\n",
      "Epoch 2/12\n",
      "60000/60000 [==============================] - 13s 214us/step - loss: 0.1304 - accuracy: 0.9612\n",
      "Epoch 3/12\n",
      "60000/60000 [==============================] - 13s 214us/step - loss: 0.1006 - accuracy: 0.9706\n",
      "Epoch 4/12\n",
      "60000/60000 [==============================] - 13s 214us/step - loss: 0.0831 - accuracy: 0.9755\n",
      "Epoch 5/12\n",
      "60000/60000 [==============================] - 14s 228us/step - loss: 0.0697 - accuracy: 0.9791\n",
      "Epoch 6/12\n",
      "60000/60000 [==============================] - 13s 214us/step - loss: 0.0606 - accuracy: 0.9808\n",
      "Epoch 7/12\n",
      "60000/60000 [==============================] - 14s 233us/step - loss: 0.0557 - accuracy: 0.9828\n",
      "Epoch 8/12\n",
      "60000/60000 [==============================] - 14s 233us/step - loss: 0.0478 - accuracy: 0.9853\n",
      "Epoch 9/12\n",
      "60000/60000 [==============================] - 15s 247us/step - loss: 0.0453 - accuracy: 0.9855\n",
      "Epoch 10/12\n",
      "60000/60000 [==============================] - 14s 237us/step - loss: 0.0411 - accuracy: 0.9871\n",
      "Epoch 11/12\n",
      "60000/60000 [==============================] - 14s 226us/step - loss: 0.0358 - accuracy: 0.9887\n",
      "Epoch 12/12\n",
      "60000/60000 [==============================] - 14s 227us/step - loss: 0.0346 - accuracy: 0.9898\n",
      "10000/10000 [==============================] - 1s 98us/step\n",
      "Epoch 1/12\n",
      "60000/60000 [==============================] - 11s 190us/step - loss: 0.3128 - accuracy: 0.9032\n",
      "Epoch 2/12\n",
      "60000/60000 [==============================] - 11s 185us/step - loss: 0.1236 - accuracy: 0.9635\n",
      "Epoch 3/12\n",
      "60000/60000 [==============================] - 11s 187us/step - loss: 0.0940 - accuracy: 0.9716\n",
      "Epoch 4/12\n",
      "60000/60000 [==============================] - 11s 186us/step - loss: 0.0766 - accuracy: 0.9772\n",
      "Epoch 5/12\n",
      "60000/60000 [==============================] - 11s 180us/step - loss: 0.0607 - accuracy: 0.9812\n",
      "Epoch 6/12\n",
      "60000/60000 [==============================] - 11s 183us/step - loss: 0.0536 - accuracy: 0.9830\n",
      "Epoch 7/12\n",
      "60000/60000 [==============================] - 11s 184us/step - loss: 0.0490 - accuracy: 0.9841\n",
      "Epoch 8/12\n",
      "60000/60000 [==============================] - 11s 179us/step - loss: 0.0415 - accuracy: 0.9871\n",
      "Epoch 9/12\n",
      "60000/60000 [==============================] - 11s 182us/step - loss: 0.0398 - accuracy: 0.9871\n",
      "Epoch 10/12\n",
      "60000/60000 [==============================] - 11s 182us/step - loss: 0.0335 - accuracy: 0.9892\n",
      "Epoch 11/12\n",
      "60000/60000 [==============================] - 11s 184us/step - loss: 0.0333 - accuracy: 0.9895\n",
      "Epoch 12/12\n",
      "60000/60000 [==============================] - 11s 182us/step - loss: 0.0285 - accuracy: 0.9911\n",
      "10000/10000 [==============================] - 0s 50us/step\n",
      "Epoch 1/12\n",
      "60000/60000 [==============================] - 6s 104us/step - loss: 0.3135 - accuracy: 0.9005\n",
      "Epoch 2/12\n",
      "60000/60000 [==============================] - 6s 108us/step - loss: 0.1189 - accuracy: 0.9636\n",
      "Epoch 3/12\n",
      "60000/60000 [==============================] - 7s 111us/step - loss: 0.0853 - accuracy: 0.9736\n",
      "Epoch 4/12\n",
      "60000/60000 [==============================] - 7s 113us/step - loss: 0.0657 - accuracy: 0.9797\n",
      "Epoch 5/12\n",
      "60000/60000 [==============================] - 7s 111us/step - loss: 0.0541 - accuracy: 0.98280s - loss: 0.0545 - \n",
      "Epoch 6/12\n",
      "60000/60000 [==============================] - 7s 110us/step - loss: 0.0472 - accuracy: 0.9847\n",
      "Epoch 7/12\n",
      "60000/60000 [==============================] - 6s 106us/step - loss: 0.0415 - accuracy: 0.9870\n",
      "Epoch 8/12\n",
      "60000/60000 [==============================] - 7s 109us/step - loss: 0.0323 - accuracy: 0.9899\n",
      "Epoch 9/12\n",
      "60000/60000 [==============================] - 7s 109us/step - loss: 0.0308 - accuracy: 0.9899\n",
      "Epoch 10/12\n",
      "60000/60000 [==============================] - 7s 114us/step - loss: 0.0286 - accuracy: 0.9908\n",
      "Epoch 11/12\n",
      "60000/60000 [==============================] - 7s 114us/step - loss: 0.0240 - accuracy: 0.9922\n",
      "Epoch 12/12\n",
      "60000/60000 [==============================] - 7s 114us/step - loss: 0.0245 - accuracy: 0.9923\n",
      "10000/10000 [==============================] - 1s 72us/step\n",
      "[0.98685, 0.9898, 0.9911, 0.99225]\n"
     ]
    }
   ],
   "source": [
    "bath_sizes=[16,32,64,128]\n",
    "accuracies=accuracies_from_bath_sizes(bath_sizes)\n",
    "print(accuracies)"
   ]
  },
  {
   "cell_type": "code",
   "execution_count": 18,
   "metadata": {},
   "outputs": [
    {
     "data": {
      "image/png": "[encoded data removed]",
      "text/plain": [
       "<Figure size 432x288 with 1 Axes>"
      ]
     },
     "metadata": {
      "needs_background": "light"
     },
     "output_type": "display_data"
    }
   ],
   "source": [
    "plt.plot(bath_sizes,accuracies)\n",
    "plt.title(\"изменение bath_sizes\")\n",
    "plt.xlabel('bath_sizes')\n",
    "plt.ylabel('Точность %')\n",
    "plt.show()"
   ]
  },
  {
   "cell_type": "markdown",
   "metadata": {},
   "source": [
    "**Вывод: C увеличением количества обучающих примеров передающихся нейросети на каждой итерации увеличивается точность  и достигает макимума при bath_size=128 - accuracy=0.992**"
   ]
  },
  {
   "cell_type": "code",
   "execution_count": 19,
   "metadata": {},
   "outputs": [],
   "source": [
    "def accuracies_for_test_data():\n",
    "    \n",
    "    layers = {1: [512,'relu',test_images.shape[1]],2: [512,'relu'],3: [512,'relu'],4: [512,'relu'],\n",
    "                  5: [512,'relu'],6: [512,'relu'],7:[10,'softmax']}\n",
    "    \n",
    "    list_keys = list(layers.keys())\n",
    "    list_keys.sort()\n",
    "    model,hist=create_model(train_images, train_labels, test_images,test_labels,layers,list_keys,\n",
    "                                optimizer_par='adam',loss_par='categorical_crossentropy',metrics_par=['accuracy'],\n",
    "                                epochs_par=12,batch_size_par=128)\n",
    "\n",
    "        # Predict on the first 5 test images.\n",
    "    predictions = model.predict(test_images[:5])\n",
    "    \n",
    "    test_loss, test_acc=model.evaluate(\n",
    "        test_images,\n",
    "        to_categorical(test_labels)\n",
    "        )\n",
    "\n",
    "        # Print our model's predictions.\n",
    "        #print(np.argmax(predictions, axis=1)) # [7, 2, 1, 0, 4]\n",
    "\n",
    "        # Check our predictions against the ground truths.\n",
    "        #print(test_labels[:5]) # [7, 2, 1, 0, 4]\n",
    "        \n",
    "    return test_loss, test_acc"
   ]
  },
  {
   "cell_type": "code",
   "execution_count": 20,
   "metadata": {},
   "outputs": [
    {
     "name": "stdout",
     "output_type": "stream",
     "text": [
      "Epoch 1/12\n",
      "60000/60000 [==============================] - 7s 109us/step - loss: 0.3286 - accuracy: 0.8963\n",
      "Epoch 2/12\n",
      "60000/60000 [==============================] - 6s 107us/step - loss: 0.1217 - accuracy: 0.9630\n",
      "Epoch 3/12\n",
      "60000/60000 [==============================] - 6s 106us/step - loss: 0.0876 - accuracy: 0.9722\n",
      "Epoch 4/12\n",
      "60000/60000 [==============================] - 6s 107us/step - loss: 0.0699 - accuracy: 0.9778\n",
      "Epoch 5/12\n",
      "60000/60000 [==============================] - 7s 110us/step - loss: 0.0574 - accuracy: 0.9821\n",
      "Epoch 6/12\n",
      "60000/60000 [==============================] - 7s 111us/step - loss: 0.0488 - accuracy: 0.98440s - l\n",
      "Epoch 7/12\n",
      "60000/60000 [==============================] - 7s 112us/step - loss: 0.0405 - accuracy: 0.9875\n",
      "Epoch 8/12\n",
      "60000/60000 [==============================] - 7s 113us/step - loss: 0.0356 - accuracy: 0.9883\n",
      "Epoch 9/12\n",
      "60000/60000 [==============================] - 7s 109us/step - loss: 0.0305 - accuracy: 0.9901\n",
      "Epoch 10/12\n",
      "60000/60000 [==============================] - 6s 105us/step - loss: 0.0266 - accuracy: 0.9914\n",
      "Epoch 11/12\n",
      "60000/60000 [==============================] - 6s 107us/step - loss: 0.0271 - accuracy: 0.9914\n",
      "Epoch 12/12\n",
      "60000/60000 [==============================] - 6s 108us/step - loss: 0.0251 - accuracy: 0.9921\n",
      "10000/10000 [==============================] - 1s 76us/step\n",
      "10000/10000 [==============================] - 1s 73us/step\n",
      "test_loss= 0.08359573002659199\n",
      "test_acc= 0.9789000153541565\n"
     ]
    }
   ],
   "source": [
    "test_loss, test_acc=accuracies_for_test_data()\n",
    "print('test_loss=',test_loss)\n",
    "print('test_acc=',test_acc)"
   ]
  },
  {
   "cell_type": "markdown",
   "metadata": {},
   "source": [
    "**Общий вывод: подбирая параметры сети нужным образом удалось добиться достаточно большой точности на тренировочных данных, в частности этого удалось добиться путем установки следующих параметров: layers_count=7 (6 внутренних), neuron_count=512 (в каждом слое кроме выходного),optimizer='adam',epochs=12, bath_size=128. Точность на тренировочных данных=0.992, на тестовом наборе данных=0.979, что совсем неплохо, хотя есть небольшое переобучение. При этом конечно учитывалось и ограничения по ресурсам.**"
   ]
  },
  {
   "cell_type": "markdown",
   "metadata": {},
   "source": [
    "Задание 2\n",
    "    \n",
    "Поработайте с документацией Keras. Попробуйте найти полезные команды Keras неразобранные на уроке."
   ]
  },
  {
   "cell_type": "code",
   "execution_count": 21,
   "metadata": {},
   "outputs": [],
   "source": [
    "# Callbacks API - позволяет вызвать ф-ции на различных стадиях обучения\n",
    "# в частности делать ранние остановы, периодически сохранять на диск логи и модель и т.д.\n",
    "from keras import callbacks\n",
    "my_callbacks = [\n",
    "    callbacks.EarlyStopping(patience=2),\n",
    "    callbacks.ModelCheckpoint(filepath='model.{epoch:02d}-{val_loss:.2f}.h5'),\n",
    "    callbacks.TensorBoard(log_dir='./logs'),\n",
    "]\n",
    "#model.fit(dataset, epochs=10, callbacks=my_callbacks)"
   ]
  },
  {
   "cell_type": "code",
   "execution_count": 22,
   "metadata": {},
   "outputs": [
    {
     "name": "stdout",
     "output_type": "stream",
     "text": [
      "Requirement already satisfied: pydot in c:\\users\\windows\\anaconda3\\lib\\site-packages (1.4.1)\n",
      "Requirement already satisfied: pyparsing>=2.1.4 in c:\\users\\windows\\anaconda3\\lib\\site-packages (from pydot) (2.4.2)\n"
     ]
    }
   ],
   "source": [
    "!pip install pydot"
   ]
  },
  {
   "cell_type": "code",
   "execution_count": 23,
   "metadata": {},
   "outputs": [
    {
     "name": "stdout",
     "output_type": "stream",
     "text": [
      "Requirement already satisfied: pydotplus in c:\\users\\windows\\anaconda3\\lib\\site-packages (2.0.2)\n",
      "Requirement already satisfied: pyparsing>=2.0.1 in c:\\users\\windows\\anaconda3\\lib\\site-packages (from pydotplus) (2.4.2)\n"
     ]
    }
   ],
   "source": [
    "!pip install pydotplus"
   ]
  },
  {
   "cell_type": "code",
   "execution_count": 24,
   "metadata": {},
   "outputs": [
    {
     "name": "stdout",
     "output_type": "stream",
     "text": [
      "Epoch 1/2\n",
      "60000/60000 [==============================] - 5s 82us/step - loss: 0.3043 - accuracy: 0.9042\n",
      "Epoch 2/2\n",
      "60000/60000 [==============================] - 7s 114us/step - loss: 0.1197 - accuracy: 0.9635\n",
      "10000/10000 [==============================] - 1s 78us/step\n"
     ]
    },
    {
     "data": {
      "image/png": "[encoded data removed]",
      "text/plain": [
       "<IPython.core.display.Image object>"
      ]
     },
     "execution_count": 24,
     "metadata": {},
     "output_type": "execute_result"
    }
   ],
   "source": [
    "#Также полезны разные утилиты, например utils.plot_model -Converts a Keras model to dot format and save to a file. \n",
    "from keras import utils\n",
    "import pydotplus\n",
    "from keras.utils.vis_utils import model_to_dot\n",
    "import pydot\n",
    "layers = {1: [512,'relu',test_images.shape[1]],2: [512,'relu'],3: [512,'relu'],4: [512,'relu'],\n",
    "                  5: [512,'relu'],6: [512,'relu'],7:[10,'softmax']}\n",
    "    \n",
    "list_keys = list(layers.keys())\n",
    "list_keys.sort()\n",
    "model,hist=create_model(train_images, train_labels, test_images,test_labels,layers,list_keys,\n",
    "                                optimizer_par='adam',loss_par='categorical_crossentropy',metrics_par=['accuracy'],\n",
    "                                epochs_par=2,batch_size_par=128)\n",
    "\n",
    "utils.vis_utils.pydot = pydot\n",
    "utils.plot_model(model, to_file='model.png')\n",
    "\n"
   ]
  },
  {
   "cell_type": "code",
   "execution_count": null,
   "metadata": {},
   "outputs": [],
   "source": []
  }
 ],
 "metadata": {
  "kernelspec": {
   "display_name": "Python 3",
   "language": "python",
   "name": "python3"
  },
  "language_info": {
   "codemirror_mode": {
    "name": "ipython",
    "version": 3
   },
   "file_extension": ".py",
   "mimetype": "text/x-python",
   "name": "python",
   "nbconvert_exporter": "python",
   "pygments_lexer": "ipython3",
   "version": "3.7.4"
  }
 },
 "nbformat": 4,
 "nbformat_minor": 2
}
