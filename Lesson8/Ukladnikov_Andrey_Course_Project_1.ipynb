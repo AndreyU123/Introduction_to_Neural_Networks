{
 "cells": [
  {
   "cell_type": "markdown",
   "metadata": {},
   "source": [
    "ЗАДАНИЕ 1.\n",
    "\n",
    "Обучите нейронную сеть любой архитектуры которой не было на курсе, либо обучите нейронную сеть разобранной архитектуры, но на том датасете, которого не было на уроках. Сделайте анализ, того, что вам помогло в улучшения работы нейронной сети."
   ]
  },
  {
   "cell_type": "markdown",
   "metadata": {},
   "source": [
    "Используется сеть типа Transformer, где имплементируется блок Transformer как  Keras слой для классификации текста отзыва о фильме.\n",
    "Анализируются зависимости качества модели (roc_auc метрика) от разных параметров:\n"
   ]
  },
  {
   "cell_type": "code",
   "execution_count": 1,
   "metadata": {},
   "outputs": [],
   "source": [
    "\"\"\"\n",
    "Title: Text classification with Transformer\n",
    "Author: [Apoorv Nandan](https://twitter.com/NandanApoorv), \n",
    "        также я добавил класс ModelCreation для удобства тестирования и использования\n",
    "Date created: 2020/05/10\n",
    "Last modified: 2020/05/10\n",
    "Description: Implement a Transformer block as a Keras layer and use it for text classification.\n",
    "\"\"\"\n",
    "\"\"\"\n",
    "## Setup\n",
    "\"\"\"\n",
    "\n",
    "import tensorflow as tf\n",
    "from tensorflow import keras\n",
    "from tensorflow.keras import layers\n",
    "\n",
    "\"\"\"\n",
    "## Implement multi head self attention as a Keras layer\n",
    "\"\"\"\n",
    "\n",
    "\n",
    "class MultiHeadSelfAttention(layers.Layer):\n",
    "    def __init__(self, embed_dim, num_heads=8):\n",
    "        super(MultiHeadSelfAttention, self).__init__()\n",
    "        self.embed_dim = embed_dim\n",
    "        self.num_heads = num_heads\n",
    "        if embed_dim % num_heads != 0:\n",
    "            raise ValueError(\n",
    "                f\"embedding dimension = {embed_dim} should be divisible by number of heads = {num_heads}\"\n",
    "            )\n",
    "        self.projection_dim = embed_dim // num_heads\n",
    "        self.query_dense = layers.Dense(embed_dim)\n",
    "        self.key_dense = layers.Dense(embed_dim)\n",
    "        self.value_dense = layers.Dense(embed_dim)\n",
    "        self.combine_heads = layers.Dense(embed_dim)\n",
    "\n",
    "    def attention(self, query, key, value):\n",
    "        score = tf.matmul(query, key, transpose_b=True)\n",
    "        dim_key = tf.cast(tf.shape(key)[-1], tf.float32)\n",
    "        scaled_score = score / tf.math.sqrt(dim_key)\n",
    "        weights = tf.nn.softmax(scaled_score, axis=-1)\n",
    "        output = tf.matmul(weights, value)\n",
    "        return output, weights\n",
    "\n",
    "    def separate_heads(self, x, batch_size):\n",
    "        x = tf.reshape(x, (batch_size, -1, self.num_heads, self.projection_dim))\n",
    "        return tf.transpose(x, perm=[0, 2, 1, 3])\n",
    "\n",
    "    def call(self, inputs):\n",
    "        # x.shape = [batch_size, seq_len, embedding_dim]\n",
    "        batch_size = tf.shape(inputs)[0]\n",
    "        query = self.query_dense(inputs)  # (batch_size, seq_len, embed_dim)\n",
    "        key = self.key_dense(inputs)  # (batch_size, seq_len, embed_dim)\n",
    "        value = self.value_dense(inputs)  # (batch_size, seq_len, embed_dim)\n",
    "        query = self.separate_heads(\n",
    "            query, batch_size\n",
    "        )  # (batch_size, num_heads, seq_len, projection_dim)\n",
    "        key = self.separate_heads(\n",
    "            key, batch_size\n",
    "        )  # (batch_size, num_heads, seq_len, projection_dim)\n",
    "        value = self.separate_heads(\n",
    "            value, batch_size\n",
    "        )  # (batch_size, num_heads, seq_len, projection_dim)\n",
    "        attention, weights = self.attention(query, key, value)\n",
    "        attention = tf.transpose(\n",
    "            attention, perm=[0, 2, 1, 3]\n",
    "        )  # (batch_size, seq_len, num_heads, projection_dim)\n",
    "        concat_attention = tf.reshape(\n",
    "            attention, (batch_size, -1, self.embed_dim)\n",
    "        )  # (batch_size, seq_len, embed_dim)\n",
    "        output = self.combine_heads(\n",
    "            concat_attention\n",
    "        )  # (batch_size, seq_len, embed_dim)\n",
    "        return output\n",
    "\n",
    "\n",
    "\"\"\"\n",
    "## Implement a Transformer block as a layer\n",
    "\"\"\"\n",
    "\n",
    "\n",
    "class TransformerBlock(layers.Layer):\n",
    "    def __init__(self, embed_dim, num_heads, ff_dim, rate=0.1):\n",
    "        super(TransformerBlock, self).__init__()\n",
    "        self.att = MultiHeadSelfAttention(embed_dim, num_heads)\n",
    "        self.ffn = keras.Sequential(\n",
    "            [layers.Dense(ff_dim, activation=\"relu\"), layers.Dense(embed_dim),]\n",
    "        )\n",
    "        self.layernorm1 = layers.LayerNormalization(epsilon=1e-6)\n",
    "        self.layernorm2 = layers.LayerNormalization(epsilon=1e-6)\n",
    "        self.dropout1 = layers.Dropout(rate)\n",
    "        self.dropout2 = layers.Dropout(rate)\n",
    "\n",
    "    def call(self, inputs, training):\n",
    "        attn_output = self.att(inputs)\n",
    "        attn_output = self.dropout1(attn_output, training=training)\n",
    "        out1 = self.layernorm1(inputs + attn_output)\n",
    "        ffn_output = self.ffn(out1)\n",
    "        ffn_output = self.dropout2(ffn_output, training=training)\n",
    "        return self.layernorm2(out1 + ffn_output)\n",
    "\n",
    "\n",
    "\"\"\"\n",
    "## Implement embedding layer\n",
    "Two seperate embedding layers, one for tokens, one for token index (positions).\n",
    "\"\"\"\n",
    "\n",
    "\n",
    "class TokenAndPositionEmbedding(layers.Layer):\n",
    "    def __init__(self, maxlen, vocab_size, embed_dim):\n",
    "        super(TokenAndPositionEmbedding, self).__init__()\n",
    "        self.token_emb = layers.Embedding(input_dim=vocab_size, output_dim=embed_dim)\n",
    "        self.pos_emb = layers.Embedding(input_dim=maxlen, output_dim=embed_dim)\n",
    "\n",
    "    def call(self, x):\n",
    "        maxlen = tf.shape(x)[-1]\n",
    "        positions = tf.range(start=0, limit=maxlen, delta=1)\n",
    "        positions = self.pos_emb(positions)\n",
    "        x = self.token_emb(x)\n",
    "        return x + positions\n",
    "\n",
    "\n",
    "\n",
    "\n",
    "\n",
    "\n",
    "\"\"\"\n",
    "## Create classifier model using transformer layer\n",
    "Transformer layer outputs one vector for each time step of our input sequence.\n",
    "Here, we take the mean across all time steps and\n",
    "use a feed forward network on top of it to classify text.\n",
    "\"\"\"\n",
    "\n",
    "class ModelCreation:\n",
    "     def __init__(self, maxlen, vocab_size, embed_dim, num_heads, ff_dim):\n",
    "            inputs = layers.Input(shape=(maxlen,))\n",
    "            embedding_layer = TokenAndPositionEmbedding(maxlen, vocab_size, embed_dim)\n",
    "            x = embedding_layer(inputs)\n",
    "            transformer_block = TransformerBlock(embed_dim, num_heads, ff_dim)\n",
    "            x = transformer_block(x)\n",
    "            x = layers.GlobalAveragePooling1D()(x)\n",
    "            x = layers.Dropout(0.1)(x)\n",
    "            x = layers.Dense(20, activation=\"relu\")(x)\n",
    "            x = layers.Dropout(0.1)(x)\n",
    "            outputs = layers.Dense(2, activation=\"softmax\")(x)\n",
    "            self.model = keras.Model(inputs=inputs, outputs=outputs)\n",
    "            \n",
    "            \n",
    "     def train(self, x_train, y_train, x_val, y_val, batch_size, epochs):\n",
    "        \n",
    "        \"\"\"\n",
    "        ## Train and Evaluate\n",
    "        \"\"\"\n",
    "        self.model.compile(\"adam\", \"sparse_categorical_crossentropy\", metrics=[\"accuracy\"])\n",
    "        history = self.model.fit(\n",
    "            x_train, y_train, batch_size, epochs, validation_data=(x_val, y_val)\n",
    "        )\n",
    "        return self.model,history"
   ]
  },
  {
   "cell_type": "code",
   "execution_count": 2,
   "metadata": {},
   "outputs": [
    {
     "name": "stderr",
     "output_type": "stream",
     "text": [
      "C:\\Users\\Windows\\Anaconda3\\lib\\site-packages\\tensorflow_core\\python\\keras\\datasets\\imdb.py:129: VisibleDeprecationWarning: Creating an ndarray from ragged nested sequences (which is a list-or-tuple of lists-or-tuples-or ndarrays with different lengths or shapes) is deprecated. If you meant to do this, you must specify 'dtype=object' when creating the ndarray\n",
      "  x_train, y_train = np.array(xs[:idx]), np.array(labels[:idx])\n",
      "C:\\Users\\Windows\\Anaconda3\\lib\\site-packages\\tensorflow_core\\python\\keras\\datasets\\imdb.py:130: VisibleDeprecationWarning: Creating an ndarray from ragged nested sequences (which is a list-or-tuple of lists-or-tuples-or ndarrays with different lengths or shapes) is deprecated. If you meant to do this, you must specify 'dtype=object' when creating the ndarray\n",
      "  x_test, y_test = np.array(xs[idx:]), np.array(labels[idx:])\n"
     ]
    },
    {
     "name": "stdout",
     "output_type": "stream",
     "text": [
      "25000 Training sequences\n",
      "25000 Validation sequences\n"
     ]
    }
   ],
   "source": [
    "\"\"\"\n",
    "## Download and prepare dataset\n",
    "\"\"\"\n",
    "\n",
    "vocab_size = 20000  # Only consider the top 20k words\n",
    "maxlen = 200  # Only consider the first 200 words of each movie review\n",
    "(x_train, y_train), (x_val, y_val) = keras.datasets.imdb.load_data(num_words=vocab_size)\n",
    "print(len(x_train), \"Training sequences\")\n",
    "print(len(x_val), \"Validation sequences\")\n",
    "x_train = keras.preprocessing.sequence.pad_sequences(x_train, maxlen=maxlen)\n",
    "x_val = keras.preprocessing.sequence.pad_sequences(x_val, maxlen=maxlen)"
   ]
  },
  {
   "cell_type": "code",
   "execution_count": 3,
   "metadata": {},
   "outputs": [],
   "source": [
    "embed_dim = 32  # Embedding size for each token\n",
    "num_heads = 2  # Number of attention heads\n",
    "ff_dim = 32  # Hidden layer size in feed forward network inside transformer\n",
    "\n",
    "batch_size=32\n",
    "epochs=2"
   ]
  },
  {
   "cell_type": "code",
   "execution_count": 4,
   "metadata": {
    "scrolled": true
   },
   "outputs": [
    {
     "name": "stdout",
     "output_type": "stream",
     "text": [
      "Train on 25000 samples, validate on 25000 samples\n",
      "Epoch 1/2\n",
      "25000/25000 [==============================] - 31s 1ms/sample - loss: 0.3708 - accuracy: 0.8286 - val_loss: 0.2975 - val_accuracy: 0.8769\n",
      "Epoch 2/2\n",
      "25000/25000 [==============================] - 30s 1ms/sample - loss: 0.1962 - accuracy: 0.9268 - val_loss: 0.3397 - val_accuracy: 0.8552\n"
     ]
    }
   ],
   "source": [
    "model_creation=ModelCreation(maxlen, vocab_size, embed_dim, num_heads, ff_dim)\n",
    "model,hist=model_creation.train(x_train, y_train,x_val, y_val, batch_size, epochs)"
   ]
  },
  {
   "cell_type": "code",
   "execution_count": 5,
   "metadata": {},
   "outputs": [
    {
     "data": {
      "text/plain": [
       "0.92676"
      ]
     },
     "execution_count": 5,
     "metadata": {},
     "output_type": "execute_result"
    }
   ],
   "source": [
    "hist.history.get('accuracy')[-1]"
   ]
  },
  {
   "cell_type": "code",
   "execution_count": 6,
   "metadata": {},
   "outputs": [],
   "source": [
    "y_pred=model.predict(x_val)"
   ]
  },
  {
   "cell_type": "code",
   "execution_count": 7,
   "metadata": {},
   "outputs": [
    {
     "name": "stdout",
     "output_type": "stream",
     "text": [
      "y_val.shape (25000,)\n",
      "y_pred.shape (25000, 2)\n"
     ]
    }
   ],
   "source": [
    "print('y_val.shape',y_val.shape)\n",
    "print('y_pred.shape',y_pred.shape)"
   ]
  },
  {
   "cell_type": "code",
   "execution_count": 8,
   "metadata": {},
   "outputs": [],
   "source": [
    "from sklearn.metrics import roc_auc_score"
   ]
  },
  {
   "cell_type": "code",
   "execution_count": 9,
   "metadata": {},
   "outputs": [
    {
     "data": {
      "text/plain": [
       "0.94"
      ]
     },
     "execution_count": 9,
     "metadata": {},
     "output_type": "execute_result"
    }
   ],
   "source": [
    "round(roc_auc_score(y_val,y_pred[:, 1]),2)"
   ]
  },
  {
   "cell_type": "code",
   "execution_count": 10,
   "metadata": {},
   "outputs": [
    {
     "name": "stdout",
     "output_type": "stream",
     "text": [
      "Train on 25000 samples, validate on 25000 samples\n",
      "Epoch 1/2\n",
      "25000/25000 [==============================] - 35s 1ms/sample - loss: 0.3709 - accuracy: 0.8301 - val_loss: 0.2933 - val_accuracy: 0.8702\n",
      "Epoch 2/2\n",
      "25000/25000 [==============================] - 32s 1ms/sample - loss: 0.2053 - accuracy: 0.9233 - val_loss: 0.3173 - val_accuracy: 0.8669\n",
      "Train on 25000 samples, validate on 25000 samples\n",
      "Epoch 1/2\n",
      "25000/25000 [==============================] - 30s 1ms/sample - loss: 0.3769 - accuracy: 0.8256 - val_loss: 0.3074 - val_accuracy: 0.8719\n",
      "Epoch 2/2\n",
      "25000/25000 [==============================] - 28s 1ms/sample - loss: 0.2043 - accuracy: 0.9208 - val_loss: 0.3203 - val_accuracy: 0.8700\n",
      "Train on 25000 samples, validate on 25000 samples\n",
      "Epoch 1/2\n",
      "25000/25000 [==============================] - 36s 1ms/sample - loss: 0.4106 - accuracy: 0.8042 - val_loss: 0.3026 - val_accuracy: 0.8696\n",
      "Epoch 2/2\n",
      "25000/25000 [==============================] - 34s 1ms/sample - loss: 0.2068 - accuracy: 0.9218 - val_loss: 0.3802 - val_accuracy: 0.8467\n",
      "Train on 25000 samples, validate on 25000 samples\n",
      "Epoch 1/2\n",
      "25000/25000 [==============================] - 35s 1ms/sample - loss: 0.4301 - accuracy: 0.7834 - val_loss: 0.2971 - val_accuracy: 0.8728\n",
      "Epoch 2/2\n",
      "25000/25000 [==============================] - 34s 1ms/sample - loss: 0.2087 - accuracy: 0.9202 - val_loss: 0.3121 - val_accuracy: 0.8721\n"
     ]
    }
   ],
   "source": [
    "#Зависимость roc_auc_score от batch_size\n",
    "batch_sizes=[16,32,64,128]\n",
    "roc_auc_scores=[]\n",
    "for batch_size in batch_sizes:\n",
    "    model_creation=ModelCreation(maxlen, vocab_size, embed_dim, num_heads, ff_dim)\n",
    "    model,hist=model_creation.train(x_train, y_train,x_val, y_val, batch_size, epochs)\n",
    "    y_pred=model.predict(x_val)\n",
    "    roc_auc_scores.append(round(roc_auc_score(y_val,y_pred[:, 1]),2))\n",
    "    \n",
    "    "
   ]
  },
  {
   "cell_type": "code",
   "execution_count": 11,
   "metadata": {},
   "outputs": [],
   "source": [
    "import matplotlib.pyplot as plt\n",
    "\n",
    "import warnings\n",
    "warnings.simplefilter(action='ignore', category=FutureWarning)"
   ]
  },
  {
   "cell_type": "code",
   "execution_count": 12,
   "metadata": {},
   "outputs": [
    {
     "data": {
      "image/png": "[encoded data removed]",
      "text/plain": [
       "<Figure size 432x288 with 1 Axes>"
      ]
     },
     "metadata": {
      "needs_background": "light"
     },
     "output_type": "display_data"
    }
   ],
   "source": [
    "plt.plot(batch_sizes,roc_auc_scores)\n",
    "plt.title(\"изменение roc_auc от batch_size\")\n",
    "plt.xlabel('batch_size')\n",
    "plt.ylabel('ROC-AUC')\n",
    "plt.show()"
   ]
  },
  {
   "cell_type": "markdown",
   "metadata": {},
   "source": [
    "**Вывод - наилучший batch_size=128 и batch_size=16**"
   ]
  },
  {
   "cell_type": "code",
   "execution_count": 13,
   "metadata": {},
   "outputs": [
    {
     "name": "stdout",
     "output_type": "stream",
     "text": [
      "Train on 25000 samples, validate on 25000 samples\n",
      "Epoch 1/2\n",
      "25000/25000 [==============================] - 34s 1ms/sample - loss: 0.3842 - accuracy: 0.8189 - val_loss: 0.3071 - val_accuracy: 0.8704\n",
      "Epoch 2/2\n",
      "25000/25000 [==============================] - 33s 1ms/sample - loss: 0.2051 - accuracy: 0.9216 - val_loss: 0.3101 - val_accuracy: 0.8714\n",
      "Train on 25000 samples, validate on 25000 samples\n",
      "Epoch 1/4\n",
      "25000/25000 [==============================] - 33s 1ms/sample - loss: 0.3860 - accuracy: 0.8156 - val_loss: 0.2884 - val_accuracy: 0.8765\n",
      "Epoch 2/4\n",
      "25000/25000 [==============================] - 33s 1ms/sample - loss: 0.2030 - accuracy: 0.9216 - val_loss: 0.3118 - val_accuracy: 0.8738\n",
      "Epoch 3/4\n",
      "25000/25000 [==============================] - 32s 1ms/sample - loss: 0.1396 - accuracy: 0.9494 - val_loss: 0.3623 - val_accuracy: 0.8612\n",
      "Epoch 4/4\n",
      "25000/25000 [==============================] - 32s 1ms/sample - loss: 0.0956 - accuracy: 0.9673 - val_loss: 0.4662 - val_accuracy: 0.8566\n",
      "Train on 25000 samples, validate on 25000 samples\n",
      "Epoch 1/8\n",
      "25000/25000 [==============================] - 34s 1ms/sample - loss: 0.3851 - accuracy: 0.8156 - val_loss: 0.2958 - val_accuracy: 0.8736\n",
      "Epoch 2/8\n",
      "25000/25000 [==============================] - 32s 1ms/sample - loss: 0.2041 - accuracy: 0.9224 - val_loss: 0.3740 - val_accuracy: 0.8453\n",
      "Epoch 3/8\n",
      "25000/25000 [==============================] - 33s 1ms/sample - loss: 0.1445 - accuracy: 0.9476 - val_loss: 0.3922 - val_accuracy: 0.8523\n",
      "Epoch 4/8\n",
      "25000/25000 [==============================] - 32s 1ms/sample - loss: 0.0952 - accuracy: 0.9681 - val_loss: 0.4415 - val_accuracy: 0.8534\n",
      "Epoch 5/8\n",
      "25000/25000 [==============================] - 32s 1ms/sample - loss: 0.0737 - accuracy: 0.9760 - val_loss: 0.5599 - val_accuracy: 0.8529\n",
      "Epoch 6/8\n",
      "25000/25000 [==============================] - 32s 1ms/sample - loss: 0.0495 - accuracy: 0.9843 - val_loss: 0.6115 - val_accuracy: 0.8494\n",
      "Epoch 7/8\n",
      "25000/25000 [==============================] - 32s 1ms/sample - loss: 0.0386 - accuracy: 0.9874 - val_loss: 0.6589 - val_accuracy: 0.8437\n",
      "Epoch 8/8\n",
      "25000/25000 [==============================] - 32s 1ms/sample - loss: 0.0295 - accuracy: 0.9914 - val_loss: 0.7592 - val_accuracy: 0.8406\n"
     ]
    }
   ],
   "source": [
    "#Зависимость roc_auc_score от epochs\n",
    "embed_dim = 32  # Embedding size for each token\n",
    "num_heads = 2  # Number of attention heads\n",
    "ff_dim = 32  # Hidden layer size in feed forward network inside transformer\n",
    "\n",
    "batch_size=32\n",
    "\n",
    "epochses=[2,4,8]\n",
    "roc_auc_scores=[]\n",
    "for epochs in epochses:\n",
    "    model_creation=ModelCreation(maxlen, vocab_size, embed_dim, num_heads, ff_dim)\n",
    "    model,hist=model_creation.train(x_train, y_train,x_val, y_val, batch_size, epochs)\n",
    "    y_pred=model.predict(x_val)\n",
    "    roc_auc_scores.append(round(roc_auc_score(y_val,y_pred[:, 1]),2))"
   ]
  },
  {
   "cell_type": "code",
   "execution_count": 14,
   "metadata": {},
   "outputs": [
    {
     "data": {
      "image/png": "[encoded data removed]",
      "text/plain": [
       "<Figure size 432x288 with 1 Axes>"
      ]
     },
     "metadata": {
      "needs_background": "light"
     },
     "output_type": "display_data"
    }
   ],
   "source": [
    "plt.plot(epochses,roc_auc_scores)\n",
    "plt.title(\"изменение roc_auc от epochs\")\n",
    "plt.xlabel('epochs')\n",
    "plt.ylabel('ROC-AUC')\n",
    "plt.show()"
   ]
  },
  {
   "cell_type": "markdown",
   "metadata": {},
   "source": [
    "**Вывод - наилучшее количество эпох - итераций epochs=2**"
   ]
  },
  {
   "cell_type": "code",
   "execution_count": 15,
   "metadata": {},
   "outputs": [
    {
     "name": "stdout",
     "output_type": "stream",
     "text": [
      "Train on 25000 samples, validate on 25000 samples\n",
      "Epoch 1/2\n",
      "25000/25000 [==============================] - 25s 1ms/sample - loss: 0.4131 - accuracy: 0.7980 - val_loss: 0.3305 - val_accuracy: 0.8610\n",
      "Epoch 2/2\n",
      "25000/25000 [==============================] - 24s 971us/sample - loss: 0.2096 - accuracy: 0.9206 - val_loss: 0.3138 - val_accuracy: 0.8678\n",
      "Train on 25000 samples, validate on 25000 samples\n",
      "Epoch 1/2\n",
      "25000/25000 [==============================] - 31s 1ms/sample - loss: 0.3796 - accuracy: 0.8242 - val_loss: 0.2887 - val_accuracy: 0.8783\n",
      "Epoch 2/2\n",
      "25000/25000 [==============================] - 31s 1ms/sample - loss: 0.1981 - accuracy: 0.9248 - val_loss: 0.3308 - val_accuracy: 0.8704\n",
      "Train on 25000 samples, validate on 25000 samples\n",
      "Epoch 1/2\n",
      "25000/25000 [==============================] - 55s 2ms/sample - loss: 0.3741 - accuracy: 0.8217 - val_loss: 0.2864 - val_accuracy: 0.8779\n",
      "Epoch 2/2\n",
      "25000/25000 [==============================] - 53s 2ms/sample - loss: 0.1941 - accuracy: 0.9254 - val_loss: 0.3102 - val_accuracy: 0.8739\n",
      "Train on 25000 samples, validate on 25000 samples\n",
      "Epoch 1/2\n",
      "25000/25000 [==============================] - 97s 4ms/sample - loss: 0.3637 - accuracy: 0.8335 - val_loss: 0.3049 - val_accuracy: 0.8714\n",
      "Epoch 2/2\n",
      "25000/25000 [==============================] - 97s 4ms/sample - loss: 0.1973 - accuracy: 0.9260 - val_loss: 0.3178 - val_accuracy: 0.8637\n"
     ]
    }
   ],
   "source": [
    "#Зависимость roc_auc_score от embed_dim - Embedding size for each token - Размер встраивания для каждого токена\n",
    "\n",
    "num_heads = 2  # Number of attention heads\n",
    "ff_dim = 32  # Hidden layer size in feed forward network inside transformer\n",
    "\n",
    "batch_size=32\n",
    "epochs=2\n",
    "\n",
    "embed_dims=[16,32,64,128]\n",
    "roc_auc_scores=[]\n",
    "for embed_dim in embed_dims:\n",
    "    ff_dim=embed_dim\n",
    "    model_creation=ModelCreation(maxlen, vocab_size, embed_dim, num_heads, ff_dim)\n",
    "    model,hist=model_creation.train(x_train, y_train,x_val, y_val, batch_size, epochs)\n",
    "    y_pred=model.predict(x_val)\n",
    "    roc_auc_scores.append(round(roc_auc_score(y_val,y_pred[:, 1]),2))"
   ]
  },
  {
   "cell_type": "code",
   "execution_count": 16,
   "metadata": {},
   "outputs": [
    {
     "data": {
      "image/png": "[encoded data removed]",
      "text/plain": [
       "<Figure size 432x288 with 1 Axes>"
      ]
     },
     "metadata": {
      "needs_background": "light"
     },
     "output_type": "display_data"
    }
   ],
   "source": [
    "plt.plot(embed_dims,roc_auc_scores)\n",
    "plt.title(\"изменение roc_auc от embed_dim (Размера встраивания для каждого токена)\")\n",
    "plt.xlabel('embed_dims')\n",
    "plt.ylabel('ROC-AUC')\n",
    "plt.show()"
   ]
  },
  {
   "cell_type": "markdown",
   "metadata": {},
   "source": [
    "**Вывод - наилучший размера встраивания для каждого токена - embed_dim>30 и embed_dim<70**"
   ]
  },
  {
   "cell_type": "code",
   "execution_count": 17,
   "metadata": {},
   "outputs": [
    {
     "name": "stdout",
     "output_type": "stream",
     "text": [
      "Train on 25000 samples, validate on 25000 samples\n",
      "Epoch 1/2\n",
      "25000/25000 [==============================] - 33s 1ms/sample - loss: 0.3809 - accuracy: 0.8238 - val_loss: 0.2995 - val_accuracy: 0.8758\n",
      "Epoch 2/2\n",
      "25000/25000 [==============================] - 30s 1ms/sample - loss: 0.2001 - accuracy: 0.9236 - val_loss: 0.3165 - val_accuracy: 0.8710\n",
      "Train on 25000 samples, validate on 25000 samples\n",
      "Epoch 1/2\n",
      "25000/25000 [==============================] - 54s 2ms/sample - loss: 0.3894 - accuracy: 0.8136 - val_loss: 0.3180 - val_accuracy: 0.8678\n",
      "Epoch 2/2\n",
      "25000/25000 [==============================] - 52s 2ms/sample - loss: 0.2025 - accuracy: 0.9227 - val_loss: 0.3344 - val_accuracy: 0.8625\n",
      "Train on 25000 samples, validate on 25000 samples\n",
      "Epoch 1/2\n",
      "25000/25000 [==============================] - 86s 3ms/sample - loss: 0.3755 - accuracy: 0.8265 - val_loss: 0.2973 - val_accuracy: 0.8728\n",
      "Epoch 2/2\n",
      "25000/25000 [==============================] - 84s 3ms/sample - loss: 0.2043 - accuracy: 0.9214 - val_loss: 0.3939 - val_accuracy: 0.8493\n",
      "Train on 25000 samples, validate on 25000 samples\n",
      "Epoch 1/2\n",
      "25000/25000 [==============================] - 147s 6ms/sample - loss: 0.3867 - accuracy: 0.8200 - val_loss: 0.4130 - val_accuracy: 0.8115\n",
      "Epoch 2/2\n",
      "25000/25000 [==============================] - 146s 6ms/sample - loss: 0.2087 - accuracy: 0.9196 - val_loss: 0.3113 - val_accuracy: 0.8704\n"
     ]
    }
   ],
   "source": [
    "#Зависимость roc_auc_score от num_heads - Number of attention heads - Количество заголовков внимания\n",
    "\n",
    "ff_dim = 32  # Hidden layer size in feed forward network inside transformer\n",
    "embed_dim=32\n",
    "batch_size=32\n",
    "epochs=2\n",
    "\n",
    "num_headses=[2,4,8,16]\n",
    "roc_auc_scores=[]\n",
    "for num_heads in num_headses:\n",
    "    model_creation=ModelCreation(maxlen, vocab_size, embed_dim, num_heads, ff_dim)\n",
    "    model,hist=model_creation.train(x_train, y_train,x_val, y_val, batch_size, epochs)\n",
    "    y_pred=model.predict(x_val)\n",
    "    roc_auc_scores.append(round(roc_auc_score(y_val,y_pred[:, 1]),2))"
   ]
  },
  {
   "cell_type": "code",
   "execution_count": 18,
   "metadata": {},
   "outputs": [
    {
     "data": {
      "image/png": "[encoded data removed]",
      "text/plain": [
       "<Figure size 432x288 with 1 Axes>"
      ]
     },
     "metadata": {
      "needs_background": "light"
     },
     "output_type": "display_data"
    }
   ],
   "source": [
    "plt.plot(num_headses,roc_auc_scores)\n",
    "plt.title(\"изменение roc_auc от num_heads (Количество заголовков внимания)\")\n",
    "plt.xlabel('num_heads')\n",
    "plt.ylabel('ROC-AUC')\n",
    "plt.show()"
   ]
  },
  {
   "cell_type": "markdown",
   "metadata": {},
   "source": [
    "**Вывод - наилучшее num_heads (Количество заголовков внимания)num_heads<=4**"
   ]
  },
  {
   "cell_type": "code",
   "execution_count": null,
   "metadata": {},
   "outputs": [],
   "source": []
  }
 ],
 "metadata": {
  "kernelspec": {
   "display_name": "Python 3",
   "language": "python",
   "name": "python3"
  },
  "language_info": {
   "codemirror_mode": {
    "name": "ipython",
    "version": 3
   },
   "file_extension": ".py",
   "mimetype": "text/x-python",
   "name": "python",
   "nbconvert_exporter": "python",
   "pygments_lexer": "ipython3",
   "version": "3.7.4"
  }
 },
 "nbformat": 4,
 "nbformat_minor": 4
}
